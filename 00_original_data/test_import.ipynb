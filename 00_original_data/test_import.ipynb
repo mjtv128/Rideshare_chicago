{
 "cells": [
  {
   "cell_type": "code",
   "execution_count": null,
   "metadata": {},
   "outputs": [],
   "source": [
    "from site import check_enableusersite\n",
    "from sodapy import Socrata\n",
    "import pandas as pd\n",
    "import numpy as np\n",
    "import requests\n",
    "from datetime import datetime"
   ]
  },
  {
   "cell_type": "markdown",
   "metadata": {},
   "source": [
    "### Set up API"
   ]
  },
  {
   "cell_type": "code",
   "execution_count": null,
   "metadata": {},
   "outputs": [],
   "source": [
    "token = \"dL93bWcHXE99lzC2Tyj7mJ4qR\"\n",
    "client = Socrata(\n",
    "    \"data.cityofchicago.org\",\n",
    "    token,\n",
    "    timeout=1000000\n",
    ")"
   ]
  },
  {
   "cell_type": "markdown",
   "metadata": {},
   "source": [
    "### 2018 Rideshare"
   ]
  },
  {
   "cell_type": "code",
   "execution_count": null,
   "metadata": {},
   "outputs": [],
   "source": [
    "where2018 = \"trip_start_timestamp<'2019-01-01T00:00:00.000' AND trip_start_timestamp>='2018-01-01T00:00:00.000' AND pickup_community_area IS NOT NULL AND dropoff_community_area IS NOT NULL\"\n",
    "\n",
    "# Count how many records there are in 2018\n",
    "record_count2018 = client.get(\n",
    "    \"m6dm-c72p\",\n",
    "    select=\"COUNT(*)\",\n",
    "    # select=\"trip_start_timestamp,trip_end_timestamp,trip_seconds,trip_miles,pickup_community_area,dropoff_community_area,fare,tip,additional_charges,shared_trip_authorized,trips_pooled,pickup_centroid_location,dropoff_centroid_location\",\n",
    "    where=where2018,\n",
    ")"
   ]
  },
  {
   "cell_type": "code",
   "execution_count": null,
   "metadata": {},
   "outputs": [],
   "source": [
    "# Record count of 2018\n",
    "record_count2018"
   ]
  },
  {
   "cell_type": "code",
   "execution_count": null,
   "metadata": {},
   "outputs": [],
   "source": [
    "# Paging through 2018 data with 1,000,000 per chunk\n",
    "# Takes about 1hr\n",
    "start = 0\n",
    "chunk_size = 1000000\n",
    "results = []\n",
    "while True:\n",
    "    results.extend(\n",
    "        client.get(\n",
    "            \"m6dm-c72p\",\n",
    "            select=\"trip_start_timestamp,trip_end_timestamp,trip_seconds,trip_miles,pickup_community_area,dropoff_community_area,fare,tip,additional_charges,shared_trip_authorized,trips_pooled,pickup_centroid_location,dropoff_centroid_location\",\n",
    "            where=where2018,\n",
    "            offset=start,\n",
    "            limit=chunk_size,\n",
    "        )\n",
    "    )\n",
    "    print(\"chunk: \" + str(start))\n",
    "    start += chunk_size\n",
    "    if start > int(record_count2018[0][\"COUNT\"]):\n",
    "        break\n",
    "\n",
    "rideshare2018 = pd.DataFrame.from_records(results)"
   ]
  },
  {
   "cell_type": "code",
   "execution_count": null,
   "metadata": {},
   "outputs": [],
   "source": [
    "# Change trip_start_timestamp to datetime variable\n",
    "rideshare2018[\"trip_start_timestamp\"] = pd.to_datetime(rideshare2018[\"trip_start_timestamp\"])\n",
    "\n",
    "# Create date variable which is only the date (remove specific time)\n",
    "rideshare2018[\"date\"] = pd.to_datetime(rideshare2018[\"trip_start_timestamp\"]).dt.strftime(\"%Y-%m-%d\")\n",
    "\n",
    "# Group by date and randomly sample 0.1% of data\n",
    "rideshare2018_reduced = rideshare2018.groupby(\"date\").sample(frac=0.001)\n",
    "\n",
    "# rideshare2018_reduced.to_csv(\"~/ids705/705-FinalProject/data/rideshare2018_reduced.csv\")"
   ]
  },
  {
   "cell_type": "markdown",
   "metadata": {},
   "source": [
    "### Jan 2019 - Jan 2020 Rideshare"
   ]
  },
  {
   "cell_type": "code",
   "execution_count": null,
   "metadata": {},
   "outputs": [],
   "source": [
    "# where_filter for each month\n",
    "where2019jan = \"trip_start_timestamp>='2019-01-01T00:00:00.000' AND trip_start_timestamp<'2019-02-01T00:00:00.000' AND pickup_community_area IS NOT NULL AND dropoff_community_area IS NOT NULL\"\n",
    "where2019feb = \"trip_start_timestamp>='2019-02-01T00:00:00.000' AND trip_start_timestamp<'2019-03-01T00:00:00.000' AND pickup_community_area IS NOT NULL AND dropoff_community_area IS NOT NULL\"\n",
    "where2019mar = \"trip_start_timestamp>='2019-03-01T00:00:00.000' AND trip_start_timestamp<'2019-04-01T00:00:00.000' AND pickup_community_area IS NOT NULL AND dropoff_community_area IS NOT NULL\"\n",
    "where2019apr = \"trip_start_timestamp>='2019-04-01T00:00:00.000' AND trip_start_timestamp<'2019-05-01T00:00:00.000' AND pickup_community_area IS NOT NULL AND dropoff_community_area IS NOT NULL\"\n",
    "where2019may = \"trip_start_timestamp>='2019-05-01T00:00:00.000' AND trip_start_timestamp<'2019-06-01T00:00:00.000' AND pickup_community_area IS NOT NULL AND dropoff_community_area IS NOT NULL\"\n",
    "where2019jun = \"trip_start_timestamp>='2019-06-01T00:00:00.000' AND trip_start_timestamp<'2019-07-01T00:00:00.000' AND pickup_community_area IS NOT NULL AND dropoff_community_area IS NOT NULL\"\n",
    "where2019jul = \"trip_start_timestamp>='2019-07-01T00:00:00.000' AND trip_start_timestamp<'2019-08-01T00:00:00.000' AND pickup_community_area IS NOT NULL AND dropoff_community_area IS NOT NULL\"\n",
    "where2019aug = \"trip_start_timestamp>='2019-08-01T00:00:00.000' AND trip_start_timestamp<'2019-09-01T00:00:00.000' AND pickup_community_area IS NOT NULL AND dropoff_community_area IS NOT NULL\"\n",
    "where2019sep = \"trip_start_timestamp>='2019-09-01T00:00:00.000' AND trip_start_timestamp<'2019-10-01T00:00:00.000' AND pickup_community_area IS NOT NULL AND dropoff_community_area IS NOT NULL\"\n",
    "where2019oct = \"trip_start_timestamp>='2019-10-01T00:00:00.000' AND trip_start_timestamp<'2019-11-01T00:00:00.000' AND pickup_community_area IS NOT NULL AND dropoff_community_area IS NOT NULL\"\n",
    "where2019nov = \"trip_start_timestamp>='2019-11-01T00:00:00.000' AND trip_start_timestamp<'2019-12-01T00:00:00.000' AND pickup_community_area IS NOT NULL AND dropoff_community_area IS NOT NULL\"\n",
    "where2019dec = \"trip_start_timestamp>='2019-12-01T00:00:00.000' AND trip_start_timestamp<'2020-01-01T00:00:00.000' AND pickup_community_area IS NOT NULL AND dropoff_community_area IS NOT NULL\"\n",
    "where2020jan = \"trip_start_timestamp>='2020-01-01T00:00:00.000' AND trip_start_timestamp<'2020-02-01T00:00:00.000' AND pickup_community_area IS NOT NULL AND dropoff_community_area IS NOT NULL\"\n",
    "\n",
    "# Added to a list for convenience if running the function later in a loop (not advised, takes too long)\n",
    "year2019_count = [\n",
    "    where2019jan,\n",
    "    where2019feb,\n",
    "    where2019mar,\n",
    "    where2019apr,\n",
    "    where2019may,\n",
    "    where2019jun,\n",
    "    where2019jul,\n",
    "    where2019aug,\n",
    "    where2019sep,\n",
    "    where2019oct,\n",
    "    where2019nov,\n",
    "    where2019dec,\n",
    "    where2020jan,\n",
    "]\n",
    "\n",
    "# List of counts for each month\n",
    "counts_bymonth = []\n",
    "for month in year2019_count:\n",
    "    count = client.get(\n",
    "        \"m6dm-c72p\",\n",
    "        select=\"COUNT(*)\",\n",
    "        where=month,\n",
    "    )\n",
    "    counts_bymonth.append(count)\n"
   ]
  },
  {
   "cell_type": "code",
   "execution_count": null,
   "metadata": {},
   "outputs": [],
   "source": [
    "def get_count(where_filter):\n",
    "    \"\"\"Count function. Returns in format of '[{'COUNT': 'XXXXXXX'}]'\n",
    "    \n",
    "    where_filter: filter condition for each month (string)\n",
    "    \"\"\"\n",
    "    count = client.get(\n",
    "        \"m6dm-c72p\",\n",
    "        select=\"COUNT(*)\",\n",
    "        where=where_filter,\n",
    "    )\n",
    "    return count"
   ]
  },
  {
   "cell_type": "code",
   "execution_count": null,
   "metadata": {},
   "outputs": [],
   "source": [
    "def paging_data(where_filter, count):\n",
    "    \"\"\"Paging data with 1,000,000 per chunk.\n",
    "\n",
    "    Play around with the chunk_size if 1 million is too large (roughly 500,000 - 1mil would be ideal).\n",
    "    where_filter: filter condition (string).\n",
    "    count: output from get_count function.\n",
    "    \n",
    "    Function returns a dataframe with selected month. \n",
    "    \"\"\"\n",
    "    start = 0\n",
    "    chunk_size = 1000000\n",
    "    results = []\n",
    "    while True:\n",
    "        results.extend(\n",
    "            client.get(\n",
    "                \"m6dm-c72p\",\n",
    "                select=\"trip_start_timestamp,trip_end_timestamp,trip_seconds,trip_miles,pickup_community_area,dropoff_community_area,fare,tip,additional_charges,shared_trip_authorized,trips_pooled,pickup_centroid_location,dropoff_centroid_location\",\n",
    "                where=where_filter,\n",
    "                offset=start,\n",
    "                limit=chunk_size,\n",
    "            )\n",
    "        )\n",
    "        start += chunk_size\n",
    "        print(\"chunk: \" + str(start))\n",
    "        if start > int(count[0][\"COUNT\"]):\n",
    "            break\n",
    "    df = pd.DataFrame.from_records(results)\n",
    "    return df"
   ]
  },
  {
   "cell_type": "code",
   "execution_count": null,
   "metadata": {},
   "outputs": [],
   "source": [
    "# Paging through data for each month\n",
    "# Took 12hrs and did not finish so try not to use this\n",
    "rideshare2019 = pd.DataFrame(columns=rideshare2018.columns)\n",
    "for i in range(len(year2019_count)):\n",
    "    dta = paging_data(year2019_count[i], counts_bymonth[i])\n",
    "    rideshare2019 = pd.concat([rideshare2019, dta], axis=0)"
   ]
  },
  {
   "cell_type": "code",
   "execution_count": null,
   "metadata": {},
   "outputs": [],
   "source": [
    "def reduce_data(df):\n",
    "    \"\"\"Takes output dataframe from paging_data and select 0.1% of data from every day.\n",
    "    \n",
    "    Returns a dataframe which can then be concatinated with other dataframes and returned\n",
    "    as .csv. \n",
    "    \"\"\"\n",
    "    np.random.seed(1234)\n",
    "    df[\"trip_start_timestamp\"] = pd.to_datetime(df[\"trip_start_timestamp\"])\n",
    "    df[\"date\"] = pd.to_datetime(df[\"trip_start_timestamp\"]).dt.strftime(\"%Y-%m-%d\")\n",
    "    df_reduced = df.groupby(\"date\").sample(frac=0.001)\n",
    "    return df_reduced"
   ]
  },
  {
   "cell_type": "markdown",
   "metadata": {},
   "source": [
    "### Example for paging through Jan 2019 data"
   ]
  },
  {
   "cell_type": "code",
   "execution_count": null,
   "metadata": {},
   "outputs": [],
   "source": [
    "df2019jan = paging_data(where2019jan, get_count(where2019jan))\n",
    "df2019jan_reduced = reduce_data(df2019jan)\n",
    "df2019jan_reduced.to_csv(\"path\")"
   ]
  }
 ],
 "metadata": {
  "interpreter": {
   "hash": "b59c64cbe675fb7068f51a340ca6f6905b15d51add1673579c3b8284ebecd3b8"
  },
  "kernelspec": {
   "display_name": "Python 3.9.7 ('base')",
   "language": "python",
   "name": "python3"
  },
  "language_info": {
   "codemirror_mode": {
    "name": "ipython",
    "version": 3
   },
   "file_extension": ".py",
   "mimetype": "text/x-python",
   "name": "python",
   "nbconvert_exporter": "python",
   "pygments_lexer": "ipython3",
   "version": "3.9.7"
  },
  "orig_nbformat": 4
 },
 "nbformat": 4,
 "nbformat_minor": 2
}
