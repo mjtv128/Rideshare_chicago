{
 "cells": [
  {
   "cell_type": "code",
   "execution_count": 182,
   "metadata": {},
   "outputs": [],
   "source": [
    "import numpy as np\n",
    "import pandas as pd\n",
    "import matplotlib.pyplot as plt\n",
    "import seaborn as sns\n",
    "\n",
    "from sklearn.linear_model import LogisticRegression\n",
    "from sklearn.model_selection import train_test_split\n",
    "from sklearn.metrics import accuracy_score\n",
    "from sklearn.preprocessing import MinMaxScaler\n"
   ]
  },
  {
   "cell_type": "code",
   "execution_count": 183,
   "metadata": {},
   "outputs": [
    {
     "data": {
      "text/plain": [
       "Index(['trip_start_timestamp', 'trip_end_timestamp', 'trip_seconds',\n",
       "       'trip_miles', 'fare', 'tip', 'additional_charges',\n",
       "       'shared_trip_authorized', 'trips_pooled', 'date', 'max_temp',\n",
       "       'min_temp', 'precip', 'snow', 'snow_depth', 'wind_speed',\n",
       "       'pickup_community_name', 'dropoff_community_name', 'year', 'month',\n",
       "       'day', 'day_of_week', 'hour', 'weekend', 'nonzero_tip'],\n",
       "      dtype='object')"
      ]
     },
     "execution_count": 183,
     "metadata": {},
     "output_type": "execute_result"
    }
   ],
   "source": [
    "train = pd.read_csv('./15_modified_data/train_data.csv')\n",
    "train.head()\n",
    "train.columns"
   ]
  },
  {
   "cell_type": "code",
   "execution_count": 184,
   "metadata": {},
   "outputs": [
    {
     "data": {
      "text/plain": [
       "0    68654\n",
       "1    15049\n",
       "Name: nonzero_tip, dtype: int64"
      ]
     },
     "execution_count": 184,
     "metadata": {},
     "output_type": "execute_result"
    }
   ],
   "source": [
    "train['nonzero_tip'].value_counts()"
   ]
  },
  {
   "cell_type": "code",
   "execution_count": 185,
   "metadata": {},
   "outputs": [],
   "source": [
    "# train['nonzero_tip1'] = 1\n",
    "# train.loc[(train['nonzero_tip'] == 1), 'nonzero_tip1'] = 0\n",
    "# train.loc[(train['nonzero_tip'] == 0), 'nonzero_tip1'] = 1\n"
   ]
  },
  {
   "cell_type": "code",
   "execution_count": 186,
   "metadata": {},
   "outputs": [],
   "source": [
    "# train['nonzero_tip1'].value_counts()"
   ]
  },
  {
   "cell_type": "code",
   "execution_count": 187,
   "metadata": {},
   "outputs": [],
   "source": [
    "# train['nonzero_tip'] = train['nonzero_tip1']\n",
    "# train['nonzero_tip'].value_counts()\n",
    "# train.drop(['nonzero_tip1'], axis = 1, inplace = True)"
   ]
  },
  {
   "cell_type": "code",
   "execution_count": 188,
   "metadata": {},
   "outputs": [],
   "source": [
    "# train = train[train['trip_miles'] != 0]"
   ]
  },
  {
   "cell_type": "code",
   "execution_count": 189,
   "metadata": {},
   "outputs": [
    {
     "data": {
      "text/plain": [
       "83703"
      ]
     },
     "execution_count": 189,
     "metadata": {},
     "output_type": "execute_result"
    }
   ],
   "source": [
    "y = train['nonzero_tip']\n",
    "len(y)\n"
   ]
  },
  {
   "cell_type": "code",
   "execution_count": 190,
   "metadata": {},
   "outputs": [],
   "source": [
    "month_map = {'January': 1, 'February': 2, 'March': 3, 'April': 4, 'May': 5, 'June': 6, 'July': 7, 'August': 8, 'September': 9, 'October': 10, 'November': 11, 'December': 12}\n",
    "train['month_int'] = train['month'].map(month_map)\n",
    "day_map = {'Monday': 1, 'Tuesday': 2, 'Wednesday': 3, 'Thursday': 4, 'Friday': 5, 'Saturday': 6, 'Sunday': 7}\n",
    "train['day_ofweek_int'] = train['day_of_week'].map(day_map)\n",
    "# train['day_ofweek_int'].value_counts()\n",
    "train.drop(['day_of_week', 'month' ], axis=1, inplace=True)"
   ]
  },
  {
   "cell_type": "code",
   "execution_count": 191,
   "metadata": {},
   "outputs": [
    {
     "data": {
      "text/plain": [
       "83697"
      ]
     },
     "execution_count": 191,
     "metadata": {},
     "output_type": "execute_result"
    }
   ],
   "source": [
    "len(train[train['trip_miles'] != 0])"
   ]
  },
  {
   "cell_type": "code",
   "execution_count": 192,
   "metadata": {},
   "outputs": [
    {
     "data": {
      "text/plain": [
       "6"
      ]
     },
     "execution_count": 192,
     "metadata": {},
     "output_type": "execute_result"
    }
   ],
   "source": [
    "len(train[train['trip_miles'] == 0])"
   ]
  },
  {
   "cell_type": "code",
   "execution_count": 193,
   "metadata": {},
   "outputs": [
    {
     "data": {
      "text/plain": [
       "784"
      ]
     },
     "execution_count": 193,
     "metadata": {},
     "output_type": "execute_result"
    }
   ],
   "source": [
    "len(train[train['fare'] == 0])"
   ]
  },
  {
   "cell_type": "code",
   "execution_count": 194,
   "metadata": {},
   "outputs": [],
   "source": [
    "train['amount_per_miles'] = train['fare'] / train['trip_miles']\n",
    "train['amount_per_miles'].isnull().sum()\n",
    "train['amount_per_miles']  = round(train['amount_per_miles'], 2)\n"
   ]
  },
  {
   "cell_type": "code",
   "execution_count": 195,
   "metadata": {},
   "outputs": [],
   "source": [
    "train.loc[(train['trip_miles'] == 0), 'amount_per_miles'] = 0\n"
   ]
  },
  {
   "cell_type": "code",
   "execution_count": 196,
   "metadata": {},
   "outputs": [],
   "source": [
    "train['time_of_day'] = 's'\n",
    "train.loc[(train['hour'] >= 4) & (train['hour'] < 7), 'time_of_day'] = 'early morning'\n",
    "train.loc[(train['hour'] >= 7) & (train['hour'] < 11), 'time_of_day'] = 'morning rush hour'\n",
    "train.loc[(train['hour'] >= 11) & (train['hour'] < 14), 'time_of_day'] = 'midday'\n",
    "train.loc[(train['hour'] >= 14) & (train['hour'] < 16), 'time_of_day'] = 'afternoon'\n",
    "train.loc[(train['hour'] >= 16) & (train['hour'] < 19), 'time_of_day'] = 'aft rush hour'\n",
    "train.loc[(train['hour'] >= 19) & (train['hour'] < 23), 'time_of_day'] = 'evening'\n",
    "train.loc[(train['hour'] >= 23) | (train['hour'] < 4), 'time_of_day'] = 'late night'\n",
    "\n"
   ]
  },
  {
   "cell_type": "code",
   "execution_count": 197,
   "metadata": {},
   "outputs": [],
   "source": [
    "train['season'] = 's'\n",
    "train.loc[(train['month_int'] >= 3) & (train['month_int'] <= 5), 'season'] = 'spring'\n",
    "train.loc[(train['month_int'] >= 6) & (train['month_int'] <= 8), 'season'] = 'summer'\n",
    "train.loc[(train['month_int'] >= 9) & (train['month_int'] <= 11), 'season'] = 'autumn'\n",
    "train.loc[(train['month_int'] >= 12) | (train['month_int'] <= 2), 'season'] = 'winter'"
   ]
  },
  {
   "cell_type": "code",
   "execution_count": 198,
   "metadata": {},
   "outputs": [],
   "source": [
    "train['public_hol'] = 0"
   ]
  },
  {
   "cell_type": "code",
   "execution_count": 199,
   "metadata": {},
   "outputs": [],
   "source": [
    "train.loc[(train['month_int'] == 1) & (train['day'] == 1), 'public_hol'] = 1\n",
    "train.loc[(train['month_int'] == 6) & (train['day'] == 19), 'public_hol'] = 1\n",
    "train.loc[(train['month_int'] == 7) & (train['day'] == 4), 'public_hol'] = 1\n",
    "train.loc[(train['month_int'] == 11) & (train['day'] == 11), 'public_hol'] = 1\n",
    "train.loc[(train['month_int'] == 12) & (train['day'] == 25), 'public_hol'] = 1\n",
    "\n",
    "# MLK\n",
    "train.loc[(train['month_int'] == 1) & (train['day'] == 15) & (train['year'] == 2018), 'public_hol'] = 1\n",
    "train.loc[(train['month_int'] == 1) & (train['day'] == 21) & (train['year'] == 2019), 'public_hol'] = 1\n",
    "train.loc[(train['month_int'] == 1) & (train['day'] == 20) & (train['year'] == 2020), 'public_hol'] = 1\n",
    "\n",
    "# presidents day\n",
    "train.loc[(train['month_int'] == 2) & (train['day'] == 19) & (train['year'] == 2018), 'public_hol'] = 1\n",
    "train.loc[(train['month_int'] == 2) & (train['day'] == 18) & (train['year'] == 2019), 'public_hol'] = 1\n",
    "train.loc[(train['month_int'] == 2) & (train['day'] == 17) & (train['year'] == 2020), 'public_hol'] = 1\n",
    "\n",
    "# memorial\n",
    "train.loc[(train['month_int'] == 5) & (train['day'] == 28) & (train['year'] == 2018), 'public_hol'] = 1\n",
    "train.loc[(train['month_int'] == 5) & (train['day'] == 27) & (train['year'] == 2019), 'public_hol'] = 1\n",
    "train.loc[(train['month_int'] == 5) & (train['day'] == 25) & (train['year'] == 2020), 'public_hol'] = 1\n",
    "\n",
    "# labour day\n",
    "train.loc[(train['month_int'] == 9) & (train['day'] == 3) & (train['year'] == 2018), 'public_hol'] = 1\n",
    "train.loc[(train['month_int'] == 9) & (train['day'] == 2) & (train['year'] == 2019), 'public_hol'] = 1\n",
    "train.loc[(train['month_int'] == 9) & (train['day'] == 7) & (train['year'] == 2020), 'public_hol'] = 1\n",
    "\n",
    "\n",
    "# columbus day\n",
    "train.loc[(train['month_int'] == 10) & (train['day'] == 8) & (train['year'] == 2018), 'public_hol'] = 1\n",
    "train.loc[(train['month_int'] == 10) & (train['day'] == 14) & (train['year'] == 2019), 'public_hol'] = 1\n",
    "train.loc[(train['month_int'] == 10) & (train['day'] == 12) & (train['year'] == 2020), 'public_hol'] = 1\n",
    "\n",
    "\n",
    "# thanksgiving\n",
    "train.loc[(train['month_int'] == 11) & (train['day'] == 22) & (train['year'] == 2018), 'public_hol'] = 1\n",
    "train.loc[(train['month_int'] == 11) & (train['day'] == 28) & (train['year'] == 2019), 'public_hol'] = 1\n",
    "train.loc[(train['month_int'] == 11) & (train['day'] == 26) & (train['year'] == 2020), 'public_hol'] = 1\n"
   ]
  },
  {
   "cell_type": "code",
   "execution_count": 200,
   "metadata": {},
   "outputs": [
    {
     "data": {
      "text/plain": [
       "0"
      ]
     },
     "execution_count": 200,
     "metadata": {},
     "output_type": "execute_result"
    }
   ],
   "source": [
    "train['public_hol'].isnull().sum()"
   ]
  },
  {
   "cell_type": "code",
   "execution_count": 201,
   "metadata": {},
   "outputs": [],
   "source": [
    "X = pd.get_dummies(train, columns = ['dropoff_community_name', 'pickup_community_name', 'time_of_day', 'season'])\n",
    "X.drop(['nonzero_tip', 'tip', 'trip_start_timestamp', 'trip_end_timestamp', 'date' ], axis=1, inplace=True)"
   ]
  },
  {
   "cell_type": "code",
   "execution_count": 202,
   "metadata": {},
   "outputs": [],
   "source": [
    "scaler = MinMaxScaler()"
   ]
  },
  {
   "cell_type": "code",
   "execution_count": 203,
   "metadata": {},
   "outputs": [],
   "source": [
    "pd.set_option('display.max_rows', None)\n"
   ]
  },
  {
   "cell_type": "code",
   "execution_count": 204,
   "metadata": {},
   "outputs": [
    {
     "data": {
      "text/plain": [
       "trip_seconds                                     0\n",
       "trip_miles                                       0\n",
       "fare                                             0\n",
       "additional_charges                               0\n",
       "shared_trip_authorized                           0\n",
       "trips_pooled                                     0\n",
       "max_temp                                         0\n",
       "min_temp                                         0\n",
       "precip                                           0\n",
       "snow                                             0\n",
       "snow_depth                                       0\n",
       "wind_speed                                       0\n",
       "year                                             0\n",
       "day                                              0\n",
       "hour                                             0\n",
       "weekend                                          0\n",
       "month_int                                        0\n",
       "day_ofweek_int                                   0\n",
       "amount_per_miles                                 0\n",
       "public_hol                                       0\n",
       "dropoff_community_name_ALBANY PARK               0\n",
       "dropoff_community_name_ARCHER HEIGHTS            0\n",
       "dropoff_community_name_ARMOUR SQUARE             0\n",
       "dropoff_community_name_ASHBURN                   0\n",
       "dropoff_community_name_AUBURN GRESHAM            0\n",
       "dropoff_community_name_AUSTIN                    0\n",
       "dropoff_community_name_AVALON PARK               0\n",
       "dropoff_community_name_AVONDALE                  0\n",
       "dropoff_community_name_BELMONT CRAGIN            0\n",
       "dropoff_community_name_BEVERLY                   0\n",
       "dropoff_community_name_BRIDGEPORT                0\n",
       "dropoff_community_name_BRIGHTON PARK             0\n",
       "dropoff_community_name_BURNSIDE                  0\n",
       "dropoff_community_name_CALUMET HEIGHTS           0\n",
       "dropoff_community_name_CHATHAM                   0\n",
       "dropoff_community_name_CHICAGO LAWN              0\n",
       "dropoff_community_name_CLEARING                  0\n",
       "dropoff_community_name_DOUGLAS                   0\n",
       "dropoff_community_name_DUNNING                   0\n",
       "dropoff_community_name_EAST GARFIELD PARK        0\n",
       "dropoff_community_name_EAST SIDE                 0\n",
       "dropoff_community_name_EDGEWATER                 0\n",
       "dropoff_community_name_EDISON PARK               0\n",
       "dropoff_community_name_ENGLEWOOD                 0\n",
       "dropoff_community_name_FOREST GLEN               0\n",
       "dropoff_community_name_FULLER PARK               0\n",
       "dropoff_community_name_GAGE PARK                 0\n",
       "dropoff_community_name_GARFIELD RIDGE            0\n",
       "dropoff_community_name_GRAND BOULEVARD           0\n",
       "dropoff_community_name_GREATER GRAND CROSSING    0\n",
       "dropoff_community_name_HEGEWISCH                 0\n",
       "dropoff_community_name_HERMOSA                   0\n",
       "dropoff_community_name_HUMBOLDT PARK             0\n",
       "dropoff_community_name_HYDE PARK                 0\n",
       "dropoff_community_name_IRVING PARK               0\n",
       "dropoff_community_name_JEFFERSON PARK            0\n",
       "dropoff_community_name_KENWOOD                   0\n",
       "dropoff_community_name_LAKE VIEW                 0\n",
       "dropoff_community_name_LINCOLN PARK              0\n",
       "dropoff_community_name_LINCOLN SQUARE            0\n",
       "dropoff_community_name_LOGAN SQUARE              0\n",
       "dropoff_community_name_LOOP                      0\n",
       "dropoff_community_name_LOWER WEST SIDE           0\n",
       "dropoff_community_name_MCKINLEY PARK             0\n",
       "dropoff_community_name_MONTCLARE                 0\n",
       "dropoff_community_name_MORGAN PARK               0\n",
       "dropoff_community_name_MOUNT GREENWOOD           0\n",
       "dropoff_community_name_NEAR NORTH SIDE           0\n",
       "dropoff_community_name_NEAR SOUTH SIDE           0\n",
       "dropoff_community_name_NEAR WEST SIDE            0\n",
       "dropoff_community_name_NEW CITY                  0\n",
       "dropoff_community_name_NORTH CENTER              0\n",
       "dropoff_community_name_NORTH LAWNDALE            0\n",
       "dropoff_community_name_NORTH PARK                0\n",
       "dropoff_community_name_NORWOOD PARK              0\n",
       "dropoff_community_name_OAKLAND                   0\n",
       "dropoff_community_name_OHARE                     0\n",
       "dropoff_community_name_PORTAGE PARK              0\n",
       "dropoff_community_name_PULLMAN                   0\n",
       "dropoff_community_name_RIVERDALE                 0\n",
       "dropoff_community_name_ROGERS PARK               0\n",
       "dropoff_community_name_ROSELAND                  0\n",
       "dropoff_community_name_SOUTH CHICAGO             0\n",
       "dropoff_community_name_SOUTH DEERING             0\n",
       "dropoff_community_name_SOUTH LAWNDALE            0\n",
       "dropoff_community_name_SOUTH SHORE               0\n",
       "dropoff_community_name_UPTOWN                    0\n",
       "dropoff_community_name_WASHINGTON HEIGHTS        0\n",
       "dropoff_community_name_WASHINGTON PARK           0\n",
       "dropoff_community_name_WEST ELSDON               0\n",
       "dropoff_community_name_WEST ENGLEWOOD            0\n",
       "dropoff_community_name_WEST GARFIELD PARK        0\n",
       "dropoff_community_name_WEST LAWN                 0\n",
       "dropoff_community_name_WEST PULLMAN              0\n",
       "dropoff_community_name_WEST RIDGE                0\n",
       "dropoff_community_name_WEST TOWN                 0\n",
       "dropoff_community_name_WOODLAWN                  0\n",
       "pickup_community_name_ALBANY PARK                0\n",
       "pickup_community_name_ARCHER HEIGHTS             0\n",
       "pickup_community_name_ARMOUR SQUARE              0\n",
       "pickup_community_name_ASHBURN                    0\n",
       "pickup_community_name_AUBURN GRESHAM             0\n",
       "pickup_community_name_AUSTIN                     0\n",
       "pickup_community_name_AVALON PARK                0\n",
       "pickup_community_name_AVONDALE                   0\n",
       "pickup_community_name_BELMONT CRAGIN             0\n",
       "pickup_community_name_BEVERLY                    0\n",
       "pickup_community_name_BRIDGEPORT                 0\n",
       "pickup_community_name_BRIGHTON PARK              0\n",
       "pickup_community_name_BURNSIDE                   0\n",
       "pickup_community_name_CALUMET HEIGHTS            0\n",
       "pickup_community_name_CHATHAM                    0\n",
       "pickup_community_name_CHICAGO LAWN               0\n",
       "pickup_community_name_CLEARING                   0\n",
       "pickup_community_name_DOUGLAS                    0\n",
       "pickup_community_name_DUNNING                    0\n",
       "pickup_community_name_EAST GARFIELD PARK         0\n",
       "pickup_community_name_EAST SIDE                  0\n",
       "pickup_community_name_EDGEWATER                  0\n",
       "pickup_community_name_EDISON PARK                0\n",
       "pickup_community_name_ENGLEWOOD                  0\n",
       "pickup_community_name_FOREST GLEN                0\n",
       "pickup_community_name_FULLER PARK                0\n",
       "pickup_community_name_GAGE PARK                  0\n",
       "pickup_community_name_GARFIELD RIDGE             0\n",
       "pickup_community_name_GRAND BOULEVARD            0\n",
       "pickup_community_name_GREATER GRAND CROSSING     0\n",
       "pickup_community_name_HEGEWISCH                  0\n",
       "pickup_community_name_HERMOSA                    0\n",
       "pickup_community_name_HUMBOLDT PARK              0\n",
       "pickup_community_name_HYDE PARK                  0\n",
       "pickup_community_name_IRVING PARK                0\n",
       "pickup_community_name_JEFFERSON PARK             0\n",
       "pickup_community_name_KENWOOD                    0\n",
       "pickup_community_name_LAKE VIEW                  0\n",
       "pickup_community_name_LINCOLN PARK               0\n",
       "pickup_community_name_LINCOLN SQUARE             0\n",
       "pickup_community_name_LOGAN SQUARE               0\n",
       "pickup_community_name_LOOP                       0\n",
       "pickup_community_name_LOWER WEST SIDE            0\n",
       "pickup_community_name_MCKINLEY PARK              0\n",
       "pickup_community_name_MONTCLARE                  0\n",
       "pickup_community_name_MORGAN PARK                0\n",
       "pickup_community_name_MOUNT GREENWOOD            0\n",
       "pickup_community_name_NEAR NORTH SIDE            0\n",
       "pickup_community_name_NEAR SOUTH SIDE            0\n",
       "pickup_community_name_NEAR WEST SIDE             0\n",
       "pickup_community_name_NEW CITY                   0\n",
       "pickup_community_name_NORTH CENTER               0\n",
       "pickup_community_name_NORTH LAWNDALE             0\n",
       "pickup_community_name_NORTH PARK                 0\n",
       "pickup_community_name_NORWOOD PARK               0\n",
       "pickup_community_name_OAKLAND                    0\n",
       "pickup_community_name_OHARE                      0\n",
       "pickup_community_name_PORTAGE PARK               0\n",
       "pickup_community_name_PULLMAN                    0\n",
       "pickup_community_name_RIVERDALE                  0\n",
       "pickup_community_name_ROGERS PARK                0\n",
       "pickup_community_name_ROSELAND                   0\n",
       "pickup_community_name_SOUTH CHICAGO              0\n",
       "pickup_community_name_SOUTH DEERING              0\n",
       "pickup_community_name_SOUTH LAWNDALE             0\n",
       "pickup_community_name_SOUTH SHORE                0\n",
       "pickup_community_name_UPTOWN                     0\n",
       "pickup_community_name_WASHINGTON HEIGHTS         0\n",
       "pickup_community_name_WASHINGTON PARK            0\n",
       "pickup_community_name_WEST ELSDON                0\n",
       "pickup_community_name_WEST ENGLEWOOD             0\n",
       "pickup_community_name_WEST GARFIELD PARK         0\n",
       "pickup_community_name_WEST LAWN                  0\n",
       "pickup_community_name_WEST PULLMAN               0\n",
       "pickup_community_name_WEST RIDGE                 0\n",
       "pickup_community_name_WEST TOWN                  0\n",
       "pickup_community_name_WOODLAWN                   0\n",
       "time_of_day_aft rush hour                        0\n",
       "time_of_day_afternoon                            0\n",
       "time_of_day_early morning                        0\n",
       "time_of_day_evening                              0\n",
       "time_of_day_late night                           0\n",
       "time_of_day_midday                               0\n",
       "time_of_day_morning rush hour                    0\n",
       "season_autumn                                    0\n",
       "season_spring                                    0\n",
       "season_summer                                    0\n",
       "season_winter                                    0\n",
       "dtype: int64"
      ]
     },
     "execution_count": 204,
     "metadata": {},
     "output_type": "execute_result"
    }
   ],
   "source": [
    "X.isnull().sum()"
   ]
  },
  {
   "cell_type": "code",
   "execution_count": null,
   "metadata": {},
   "outputs": [],
   "source": []
  },
  {
   "cell_type": "code",
   "execution_count": 205,
   "metadata": {},
   "outputs": [
    {
     "data": {
      "text/html": [
       "<div>\n",
       "<style scoped>\n",
       "    .dataframe tbody tr th:only-of-type {\n",
       "        vertical-align: middle;\n",
       "    }\n",
       "\n",
       "    .dataframe tbody tr th {\n",
       "        vertical-align: top;\n",
       "    }\n",
       "\n",
       "    .dataframe thead th {\n",
       "        text-align: right;\n",
       "    }\n",
       "</style>\n",
       "<table border=\"1\" class=\"dataframe\">\n",
       "  <thead>\n",
       "    <tr style=\"text-align: right;\">\n",
       "      <th></th>\n",
       "      <th>trip_seconds</th>\n",
       "      <th>trip_miles</th>\n",
       "      <th>fare</th>\n",
       "      <th>additional_charges</th>\n",
       "      <th>shared_trip_authorized</th>\n",
       "      <th>trips_pooled</th>\n",
       "      <th>max_temp</th>\n",
       "      <th>min_temp</th>\n",
       "      <th>precip</th>\n",
       "      <th>snow</th>\n",
       "      <th>...</th>\n",
       "      <th>time_of_day_afternoon</th>\n",
       "      <th>time_of_day_early morning</th>\n",
       "      <th>time_of_day_evening</th>\n",
       "      <th>time_of_day_late night</th>\n",
       "      <th>time_of_day_midday</th>\n",
       "      <th>time_of_day_morning rush hour</th>\n",
       "      <th>season_autumn</th>\n",
       "      <th>season_spring</th>\n",
       "      <th>season_summer</th>\n",
       "      <th>season_winter</th>\n",
       "    </tr>\n",
       "  </thead>\n",
       "  <tbody>\n",
       "    <tr>\n",
       "      <th>0</th>\n",
       "      <td>802.0</td>\n",
       "      <td>6.183132</td>\n",
       "      <td>10.0</td>\n",
       "      <td>2.55</td>\n",
       "      <td>False</td>\n",
       "      <td>1</td>\n",
       "      <td>80.06</td>\n",
       "      <td>80.06</td>\n",
       "      <td>0.000000</td>\n",
       "      <td>0.0</td>\n",
       "      <td>...</td>\n",
       "      <td>0</td>\n",
       "      <td>1</td>\n",
       "      <td>0</td>\n",
       "      <td>0</td>\n",
       "      <td>0</td>\n",
       "      <td>0</td>\n",
       "      <td>1</td>\n",
       "      <td>0</td>\n",
       "      <td>0</td>\n",
       "      <td>0</td>\n",
       "    </tr>\n",
       "    <tr>\n",
       "      <th>1</th>\n",
       "      <td>2349.0</td>\n",
       "      <td>18.248731</td>\n",
       "      <td>35.0</td>\n",
       "      <td>8.11</td>\n",
       "      <td>False</td>\n",
       "      <td>1</td>\n",
       "      <td>78.98</td>\n",
       "      <td>78.98</td>\n",
       "      <td>0.000000</td>\n",
       "      <td>0.0</td>\n",
       "      <td>...</td>\n",
       "      <td>0</td>\n",
       "      <td>0</td>\n",
       "      <td>0</td>\n",
       "      <td>0</td>\n",
       "      <td>1</td>\n",
       "      <td>0</td>\n",
       "      <td>0</td>\n",
       "      <td>0</td>\n",
       "      <td>1</td>\n",
       "      <td>0</td>\n",
       "    </tr>\n",
       "    <tr>\n",
       "      <th>2</th>\n",
       "      <td>684.0</td>\n",
       "      <td>5.277118</td>\n",
       "      <td>10.0</td>\n",
       "      <td>2.50</td>\n",
       "      <td>False</td>\n",
       "      <td>1</td>\n",
       "      <td>37.04</td>\n",
       "      <td>37.04</td>\n",
       "      <td>1.181102</td>\n",
       "      <td>0.0</td>\n",
       "      <td>...</td>\n",
       "      <td>0</td>\n",
       "      <td>0</td>\n",
       "      <td>0</td>\n",
       "      <td>1</td>\n",
       "      <td>0</td>\n",
       "      <td>0</td>\n",
       "      <td>1</td>\n",
       "      <td>0</td>\n",
       "      <td>0</td>\n",
       "      <td>0</td>\n",
       "    </tr>\n",
       "    <tr>\n",
       "      <th>3</th>\n",
       "      <td>698.0</td>\n",
       "      <td>3.079843</td>\n",
       "      <td>7.5</td>\n",
       "      <td>2.55</td>\n",
       "      <td>False</td>\n",
       "      <td>1</td>\n",
       "      <td>48.92</td>\n",
       "      <td>48.92</td>\n",
       "      <td>0.196850</td>\n",
       "      <td>0.0</td>\n",
       "      <td>...</td>\n",
       "      <td>0</td>\n",
       "      <td>0</td>\n",
       "      <td>0</td>\n",
       "      <td>0</td>\n",
       "      <td>1</td>\n",
       "      <td>0</td>\n",
       "      <td>0</td>\n",
       "      <td>0</td>\n",
       "      <td>0</td>\n",
       "      <td>1</td>\n",
       "    </tr>\n",
       "    <tr>\n",
       "      <th>4</th>\n",
       "      <td>812.0</td>\n",
       "      <td>2.996371</td>\n",
       "      <td>7.5</td>\n",
       "      <td>2.50</td>\n",
       "      <td>False</td>\n",
       "      <td>1</td>\n",
       "      <td>60.08</td>\n",
       "      <td>60.08</td>\n",
       "      <td>0.000000</td>\n",
       "      <td>0.0</td>\n",
       "      <td>...</td>\n",
       "      <td>1</td>\n",
       "      <td>0</td>\n",
       "      <td>0</td>\n",
       "      <td>0</td>\n",
       "      <td>0</td>\n",
       "      <td>0</td>\n",
       "      <td>0</td>\n",
       "      <td>0</td>\n",
       "      <td>0</td>\n",
       "      <td>1</td>\n",
       "    </tr>\n",
       "  </tbody>\n",
       "</table>\n",
       "<p>5 rows × 185 columns</p>\n",
       "</div>"
      ],
      "text/plain": [
       "   trip_seconds  trip_miles  fare  additional_charges  shared_trip_authorized  \\\n",
       "0         802.0    6.183132  10.0                2.55                   False   \n",
       "1        2349.0   18.248731  35.0                8.11                   False   \n",
       "2         684.0    5.277118  10.0                2.50                   False   \n",
       "3         698.0    3.079843   7.5                2.55                   False   \n",
       "4         812.0    2.996371   7.5                2.50                   False   \n",
       "\n",
       "   trips_pooled  max_temp  min_temp    precip  snow  ...  \\\n",
       "0             1     80.06     80.06  0.000000   0.0  ...   \n",
       "1             1     78.98     78.98  0.000000   0.0  ...   \n",
       "2             1     37.04     37.04  1.181102   0.0  ...   \n",
       "3             1     48.92     48.92  0.196850   0.0  ...   \n",
       "4             1     60.08     60.08  0.000000   0.0  ...   \n",
       "\n",
       "   time_of_day_afternoon  time_of_day_early morning  time_of_day_evening  \\\n",
       "0                      0                          1                    0   \n",
       "1                      0                          0                    0   \n",
       "2                      0                          0                    0   \n",
       "3                      0                          0                    0   \n",
       "4                      1                          0                    0   \n",
       "\n",
       "   time_of_day_late night  time_of_day_midday  time_of_day_morning rush hour  \\\n",
       "0                       0                   0                              0   \n",
       "1                       0                   1                              0   \n",
       "2                       1                   0                              0   \n",
       "3                       0                   1                              0   \n",
       "4                       0                   0                              0   \n",
       "\n",
       "   season_autumn  season_spring  season_summer  season_winter  \n",
       "0              1              0              0              0  \n",
       "1              0              0              1              0  \n",
       "2              1              0              0              0  \n",
       "3              0              0              0              1  \n",
       "4              0              0              0              1  \n",
       "\n",
       "[5 rows x 185 columns]"
      ]
     },
     "execution_count": 205,
     "metadata": {},
     "output_type": "execute_result"
    }
   ],
   "source": [
    "X.head()"
   ]
  },
  {
   "cell_type": "code",
   "execution_count": 206,
   "metadata": {},
   "outputs": [
    {
     "data": {
      "text/plain": [
       "MinMaxScaler()"
      ]
     },
     "execution_count": 206,
     "metadata": {},
     "output_type": "execute_result"
    }
   ],
   "source": [
    "scaler.fit(X)"
   ]
  },
  {
   "cell_type": "code",
   "execution_count": 207,
   "metadata": {},
   "outputs": [
    {
     "data": {
      "text/html": [
       "<div>\n",
       "<style scoped>\n",
       "    .dataframe tbody tr th:only-of-type {\n",
       "        vertical-align: middle;\n",
       "    }\n",
       "\n",
       "    .dataframe tbody tr th {\n",
       "        vertical-align: top;\n",
       "    }\n",
       "\n",
       "    .dataframe thead th {\n",
       "        text-align: right;\n",
       "    }\n",
       "</style>\n",
       "<table border=\"1\" class=\"dataframe\">\n",
       "  <thead>\n",
       "    <tr style=\"text-align: right;\">\n",
       "      <th></th>\n",
       "      <th>trip_start_timestamp</th>\n",
       "      <th>trip_end_timestamp</th>\n",
       "      <th>trip_seconds</th>\n",
       "      <th>trip_miles</th>\n",
       "      <th>fare</th>\n",
       "      <th>tip</th>\n",
       "      <th>additional_charges</th>\n",
       "      <th>shared_trip_authorized</th>\n",
       "      <th>trips_pooled</th>\n",
       "      <th>date</th>\n",
       "      <th>...</th>\n",
       "      <th>wind_speed</th>\n",
       "      <th>pickup_community_name</th>\n",
       "      <th>dropoff_community_name</th>\n",
       "      <th>year</th>\n",
       "      <th>month</th>\n",
       "      <th>day</th>\n",
       "      <th>day_of_week</th>\n",
       "      <th>hour</th>\n",
       "      <th>weekend</th>\n",
       "      <th>nonzero_tip</th>\n",
       "    </tr>\n",
       "  </thead>\n",
       "  <tbody>\n",
       "    <tr>\n",
       "      <th>0</th>\n",
       "      <td>2018-11-18 07:00:00</td>\n",
       "      <td>2018-11-18 07:00:00</td>\n",
       "      <td>100.0</td>\n",
       "      <td>0.572958</td>\n",
       "      <td>2.5</td>\n",
       "      <td>0</td>\n",
       "      <td>2.50</td>\n",
       "      <td>False</td>\n",
       "      <td>1</td>\n",
       "      <td>2018-11-18</td>\n",
       "      <td>...</td>\n",
       "      <td>100.66230</td>\n",
       "      <td>IRVING PARK</td>\n",
       "      <td>IRVING PARK</td>\n",
       "      <td>2018</td>\n",
       "      <td>November</td>\n",
       "      <td>18</td>\n",
       "      <td>Sunday</td>\n",
       "      <td>7</td>\n",
       "      <td>1</td>\n",
       "      <td>0</td>\n",
       "    </tr>\n",
       "    <tr>\n",
       "      <th>1</th>\n",
       "      <td>2020-01-22 09:30:00</td>\n",
       "      <td>2020-01-22 09:45:00</td>\n",
       "      <td>986.0</td>\n",
       "      <td>4.142381</td>\n",
       "      <td>10.0</td>\n",
       "      <td>0</td>\n",
       "      <td>4.83</td>\n",
       "      <td>False</td>\n",
       "      <td>1</td>\n",
       "      <td>2020-01-22</td>\n",
       "      <td>...</td>\n",
       "      <td>170.00744</td>\n",
       "      <td>NEAR NORTH SIDE</td>\n",
       "      <td>LOOP</td>\n",
       "      <td>2020</td>\n",
       "      <td>January</td>\n",
       "      <td>22</td>\n",
       "      <td>Wednesday</td>\n",
       "      <td>9</td>\n",
       "      <td>0</td>\n",
       "      <td>0</td>\n",
       "    </tr>\n",
       "    <tr>\n",
       "      <th>2</th>\n",
       "      <td>2018-11-26 18:45:00</td>\n",
       "      <td>2018-11-26 19:00:00</td>\n",
       "      <td>584.0</td>\n",
       "      <td>1.830871</td>\n",
       "      <td>5.0</td>\n",
       "      <td>1</td>\n",
       "      <td>2.50</td>\n",
       "      <td>False</td>\n",
       "      <td>1</td>\n",
       "      <td>2018-11-26</td>\n",
       "      <td>...</td>\n",
       "      <td>331.06712</td>\n",
       "      <td>LAKE VIEW</td>\n",
       "      <td>LINCOLN PARK</td>\n",
       "      <td>2018</td>\n",
       "      <td>November</td>\n",
       "      <td>26</td>\n",
       "      <td>Monday</td>\n",
       "      <td>18</td>\n",
       "      <td>0</td>\n",
       "      <td>1</td>\n",
       "    </tr>\n",
       "    <tr>\n",
       "      <th>3</th>\n",
       "      <td>2018-12-30 15:15:00</td>\n",
       "      <td>2018-12-30 15:30:00</td>\n",
       "      <td>819.0</td>\n",
       "      <td>4.976403</td>\n",
       "      <td>10.0</td>\n",
       "      <td>0</td>\n",
       "      <td>2.50</td>\n",
       "      <td>False</td>\n",
       "      <td>1</td>\n",
       "      <td>2018-12-30</td>\n",
       "      <td>...</td>\n",
       "      <td>210.27236</td>\n",
       "      <td>SOUTH SHORE</td>\n",
       "      <td>FULLER PARK</td>\n",
       "      <td>2018</td>\n",
       "      <td>December</td>\n",
       "      <td>30</td>\n",
       "      <td>Sunday</td>\n",
       "      <td>15</td>\n",
       "      <td>1</td>\n",
       "      <td>0</td>\n",
       "    </tr>\n",
       "    <tr>\n",
       "      <th>4</th>\n",
       "      <td>2019-07-01 23:45:00</td>\n",
       "      <td>2019-07-02 00:00:00</td>\n",
       "      <td>1162.0</td>\n",
       "      <td>8.918748</td>\n",
       "      <td>15.0</td>\n",
       "      <td>2</td>\n",
       "      <td>2.55</td>\n",
       "      <td>False</td>\n",
       "      <td>1</td>\n",
       "      <td>2019-07-01</td>\n",
       "      <td>...</td>\n",
       "      <td>170.00744</td>\n",
       "      <td>NEAR WEST SIDE</td>\n",
       "      <td>EDGEWATER</td>\n",
       "      <td>2019</td>\n",
       "      <td>July</td>\n",
       "      <td>1</td>\n",
       "      <td>Monday</td>\n",
       "      <td>23</td>\n",
       "      <td>0</td>\n",
       "      <td>1</td>\n",
       "    </tr>\n",
       "  </tbody>\n",
       "</table>\n",
       "<p>5 rows × 25 columns</p>\n",
       "</div>"
      ],
      "text/plain": [
       "  trip_start_timestamp   trip_end_timestamp  trip_seconds  trip_miles  fare  \\\n",
       "0  2018-11-18 07:00:00  2018-11-18 07:00:00         100.0    0.572958   2.5   \n",
       "1  2020-01-22 09:30:00  2020-01-22 09:45:00         986.0    4.142381  10.0   \n",
       "2  2018-11-26 18:45:00  2018-11-26 19:00:00         584.0    1.830871   5.0   \n",
       "3  2018-12-30 15:15:00  2018-12-30 15:30:00         819.0    4.976403  10.0   \n",
       "4  2019-07-01 23:45:00  2019-07-02 00:00:00        1162.0    8.918748  15.0   \n",
       "\n",
       "   tip  additional_charges  shared_trip_authorized  trips_pooled        date  \\\n",
       "0    0                2.50                   False             1  2018-11-18   \n",
       "1    0                4.83                   False             1  2020-01-22   \n",
       "2    1                2.50                   False             1  2018-11-26   \n",
       "3    0                2.50                   False             1  2018-12-30   \n",
       "4    2                2.55                   False             1  2019-07-01   \n",
       "\n",
       "   ...  wind_speed  pickup_community_name  dropoff_community_name  year  \\\n",
       "0  ...   100.66230            IRVING PARK             IRVING PARK  2018   \n",
       "1  ...   170.00744        NEAR NORTH SIDE                    LOOP  2020   \n",
       "2  ...   331.06712              LAKE VIEW            LINCOLN PARK  2018   \n",
       "3  ...   210.27236            SOUTH SHORE             FULLER PARK  2018   \n",
       "4  ...   170.00744         NEAR WEST SIDE               EDGEWATER  2019   \n",
       "\n",
       "      month  day day_of_week hour  weekend nonzero_tip  \n",
       "0  November   18      Sunday    7        1           0  \n",
       "1   January   22   Wednesday    9        0           0  \n",
       "2  November   26      Monday   18        0           1  \n",
       "3  December   30      Sunday   15        1           0  \n",
       "4      July    1      Monday   23        0           1  \n",
       "\n",
       "[5 rows x 25 columns]"
      ]
     },
     "execution_count": 207,
     "metadata": {},
     "output_type": "execute_result"
    }
   ],
   "source": [
    "val = pd.read_csv('./15_modified_data/val_data.csv')\n",
    "val.head()"
   ]
  },
  {
   "cell_type": "code",
   "execution_count": 208,
   "metadata": {},
   "outputs": [],
   "source": [
    "# val = val[val['trip_miles'] != 0]"
   ]
  },
  {
   "cell_type": "code",
   "execution_count": 209,
   "metadata": {},
   "outputs": [
    {
     "data": {
      "text/plain": [
       "11957"
      ]
     },
     "execution_count": 209,
     "metadata": {},
     "output_type": "execute_result"
    }
   ],
   "source": [
    "val_y = val['nonzero_tip']\n",
    "len(val_y)\n"
   ]
  },
  {
   "cell_type": "code",
   "execution_count": 210,
   "metadata": {},
   "outputs": [],
   "source": [
    "# val['nonzero_tip1'] = 1\n",
    "# val.loc[(val['nonzero_tip'] == 1), 'nonzero_tip1'] = 0\n",
    "# val.loc[(val['nonzero_tip'] == 0), 'nonzero_tip1'] = 1\n"
   ]
  },
  {
   "cell_type": "code",
   "execution_count": 211,
   "metadata": {},
   "outputs": [],
   "source": [
    "# val['nonzero_tip'] = val['nonzero_tip1']\n",
    "# val['nonzero_tip'].value_counts()\n",
    "# val.drop(['nonzero_tip1'], axis = 1, inplace = True)"
   ]
  },
  {
   "cell_type": "code",
   "execution_count": 212,
   "metadata": {},
   "outputs": [],
   "source": [
    "month_map = {'January': 1, 'February': 2, 'March': 3, 'April': 4, 'May': 5, 'June': 6, 'July': 7, 'August': 8, 'September': 9, 'October': 10, 'November': 11, 'December': 12}\n",
    "val['month_int'] = val['month'].map(month_map)\n",
    "day_map = {'Monday': 1, 'Tuesday': 2, 'Wednesday': 3, 'Thursday': 4, 'Friday': 5, 'Saturday': 6, 'Sunday': 7}\n",
    "val['day_ofweek_int'] = val['day_of_week'].map(day_map)\n",
    "# val['day_ofweek_int'].value_counts()\n",
    "val.drop(['day_of_week', 'month' ], axis=1, inplace=True)"
   ]
  },
  {
   "cell_type": "code",
   "execution_count": 213,
   "metadata": {},
   "outputs": [],
   "source": [
    "val['amount_per_miles'] = val['fare'] / val['trip_miles']\n",
    "val['amount_per_miles'].isnull().sum()\n",
    "val['amount_per_miles']  = round(val['amount_per_miles'], 2)\n",
    "val.loc[(val['trip_miles'] == 0), 'amount_per_miles'] = 0\n",
    "\n"
   ]
  },
  {
   "cell_type": "code",
   "execution_count": 214,
   "metadata": {},
   "outputs": [],
   "source": [
    "val['time_of_day'] = 's'\n",
    "val.loc[(val['hour'] >= 4) & (val['hour'] < 7), 'time_of_day'] = 'early morning'\n",
    "val.loc[(val['hour'] >= 7) & (val['hour'] < 11), 'time_of_day'] = 'morning rush hour'\n",
    "val.loc[(val['hour'] >= 11) & (val['hour'] < 14), 'time_of_day'] = 'midday'\n",
    "val.loc[(val['hour'] >= 14) & (val['hour'] < 16), 'time_of_day'] = 'afternoon'\n",
    "val.loc[(val['hour'] >= 16) & (val['hour'] < 19), 'time_of_day'] = 'aft rush hour'\n",
    "val.loc[(val['hour'] >= 19) & (val['hour'] < 23), 'time_of_day'] = 'evening'\n",
    "val.loc[(val['hour'] >= 23) | (val['hour'] < 4), 'time_of_day'] = 'late night'\n",
    "\n"
   ]
  },
  {
   "cell_type": "code",
   "execution_count": 215,
   "metadata": {},
   "outputs": [],
   "source": [
    "val['season'] = 's'\n",
    "val.loc[(val['month_int'] >= 3) & (val['month_int'] <= 5), 'season'] = 'spring'\n",
    "val.loc[(val['month_int'] >= 6) & (val['month_int'] <= 8), 'season'] = 'summer'\n",
    "val.loc[(val['month_int'] >= 9) & (val['month_int'] <= 11), 'season'] = 'autumn'\n",
    "val.loc[(val['month_int'] >= 12) | (val['month_int'] <= 2), 'season'] = 'winter'"
   ]
  },
  {
   "cell_type": "code",
   "execution_count": 216,
   "metadata": {},
   "outputs": [],
   "source": [
    "val['public_hol'] =0\n",
    "val.loc[(val['month_int'] == 1) & (val['day'] == 1), 'public_hol'] = 1\n",
    "val.loc[(val['month_int'] == 6) & (val['day'] == 19), 'public_hol'] = 1\n",
    "val.loc[(val['month_int'] == 7) & (val['day'] == 4), 'public_hol'] = 1\n",
    "val.loc[(val['month_int'] == 11) & (val['day'] == 11), 'public_hol'] = 1\n",
    "val.loc[(val['month_int'] == 12) & (val['day'] == 25), 'public_hol'] = 1\n",
    "\n",
    "# MLK\n",
    "val.loc[(val['month_int'] == 1) & (val['day'] == 15) & (val['year'] == 2018), 'public_hol'] = 1\n",
    "val.loc[(val['month_int'] == 1) & (val['day'] == 21) & (val['year'] == 2019), 'public_hol'] = 1\n",
    "val.loc[(val['month_int'] == 1) & (val['day'] == 20) & (val['year'] == 2020), 'public_hol'] = 1\n",
    "\n",
    "# presidents day\n",
    "val.loc[(val['month_int'] == 2) & (val['day'] == 19) & (val['year'] == 2018), 'public_hol'] = 1\n",
    "val.loc[(val['month_int'] == 2) & (val['day'] == 18) & (val['year'] == 2019), 'public_hol'] = 1\n",
    "val.loc[(val['month_int'] == 2) & (val['day'] == 17) & (val['year'] == 2020), 'public_hol'] = 1\n",
    "\n",
    "# memorial\n",
    "val.loc[(val['month_int'] == 5) & (val['day'] == 28) & (val['year'] == 2018), 'public_hol'] = 1\n",
    "val.loc[(val['month_int'] == 5) & (val['day'] == 27) & (val['year'] == 2019), 'public_hol'] = 1\n",
    "val.loc[(val['month_int'] == 5) & (val['day'] == 25) & (val['year'] == 2020), 'public_hol'] = 1\n",
    "\n",
    "# labour day\n",
    "val.loc[(val['month_int'] == 9) & (val['day'] == 3) & (val['year'] == 2018), 'public_hol'] = 1\n",
    "val.loc[(val['month_int'] == 9) & (val['day'] == 2) & (val['year'] == 2019), 'public_hol'] = 1\n",
    "val.loc[(val['month_int'] == 9) & (val['day'] == 7) & (val['year'] == 2020), 'public_hol'] = 1\n",
    "\n",
    "\n",
    "# columbus day\n",
    "val.loc[(val['month_int'] == 10) & (val['day'] == 8) & (val['year'] == 2018), 'public_hol'] = 1\n",
    "val.loc[(val['month_int'] == 10) & (val['day'] == 14) & (val['year'] == 2019), 'public_hol'] = 1\n",
    "val.loc[(val['month_int'] == 10) & (val['day'] == 12) & (val['year'] == 2020), 'public_hol'] = 1\n",
    "\n",
    "\n",
    "# thanksgiving\n",
    "val.loc[(val['month_int'] == 11) & (val['day'] == 22) & (val['year'] == 2018), 'public_hol'] = 1\n",
    "val.loc[(val['month_int'] == 11) & (val['day'] == 28) & (val['year'] == 2019), 'public_hol'] = 1\n",
    "val.loc[(val['month_int'] == 11) & (val['day'] == 26) & (val['year'] == 2020), 'public_hol'] = 1\n"
   ]
  },
  {
   "cell_type": "code",
   "execution_count": 217,
   "metadata": {},
   "outputs": [
    {
     "data": {
      "text/plain": [
       "0"
      ]
     },
     "execution_count": 217,
     "metadata": {},
     "output_type": "execute_result"
    }
   ],
   "source": [
    "val['public_hol'].value_counts()\n",
    "val['public_hol'].isnull().sum()"
   ]
  },
  {
   "cell_type": "code",
   "execution_count": 218,
   "metadata": {},
   "outputs": [],
   "source": [
    "val_X = pd.get_dummies(val, columns = ['dropoff_community_name', 'pickup_community_name', 'time_of_day', 'season'])\n",
    "val_X.drop(['nonzero_tip', 'tip', 'trip_start_timestamp', 'trip_end_timestamp', 'date' ], axis=1, inplace=True)"
   ]
  },
  {
   "cell_type": "code",
   "execution_count": 219,
   "metadata": {},
   "outputs": [
    {
     "data": {
      "text/plain": [
       "Index(['trip_start_timestamp', 'trip_end_timestamp', 'trip_seconds',\n",
       "       'trip_miles', 'fare', 'tip', 'additional_charges',\n",
       "       'shared_trip_authorized', 'trips_pooled', 'date', 'max_temp',\n",
       "       'min_temp', 'precip', 'snow', 'snow_depth', 'wind_speed',\n",
       "       'pickup_community_name', 'dropoff_community_name', 'year', 'day',\n",
       "       'hour', 'weekend', 'nonzero_tip', 'month_int', 'day_ofweek_int',\n",
       "       'amount_per_miles', 'time_of_day', 'season', 'public_hol'],\n",
       "      dtype='object')"
      ]
     },
     "execution_count": 219,
     "metadata": {},
     "output_type": "execute_result"
    }
   ],
   "source": [
    "train.columns"
   ]
  },
  {
   "cell_type": "code",
   "execution_count": 220,
   "metadata": {},
   "outputs": [
    {
     "data": {
      "text/plain": [
       "185"
      ]
     },
     "execution_count": 220,
     "metadata": {},
     "output_type": "execute_result"
    }
   ],
   "source": [
    "len(X.columns)\n",
    "# len(val_X.columns)\n"
   ]
  },
  {
   "cell_type": "code",
   "execution_count": 221,
   "metadata": {},
   "outputs": [],
   "source": [
    "pd.set_option('display.max_rows', None)\n"
   ]
  },
  {
   "cell_type": "code",
   "execution_count": 222,
   "metadata": {},
   "outputs": [
    {
     "data": {
      "text/plain": [
       "MinMaxScaler()"
      ]
     },
     "execution_count": 222,
     "metadata": {},
     "output_type": "execute_result"
    }
   ],
   "source": [
    "scaler.fit(val_X)"
   ]
  },
  {
   "cell_type": "code",
   "execution_count": 223,
   "metadata": {},
   "outputs": [
    {
     "data": {
      "text/plain": [
       "trip_seconds                                     0\n",
       "trip_miles                                       0\n",
       "fare                                             0\n",
       "additional_charges                               0\n",
       "shared_trip_authorized                           0\n",
       "trips_pooled                                     0\n",
       "max_temp                                         0\n",
       "min_temp                                         0\n",
       "precip                                           0\n",
       "snow                                             0\n",
       "snow_depth                                       0\n",
       "wind_speed                                       0\n",
       "year                                             0\n",
       "day                                              0\n",
       "hour                                             0\n",
       "weekend                                          0\n",
       "month_int                                        0\n",
       "day_ofweek_int                                   0\n",
       "amount_per_miles                                 0\n",
       "public_hol                                       0\n",
       "dropoff_community_name_ALBANY PARK               0\n",
       "dropoff_community_name_ARCHER HEIGHTS            0\n",
       "dropoff_community_name_ARMOUR SQUARE             0\n",
       "dropoff_community_name_ASHBURN                   0\n",
       "dropoff_community_name_AUBURN GRESHAM            0\n",
       "dropoff_community_name_AUSTIN                    0\n",
       "dropoff_community_name_AVALON PARK               0\n",
       "dropoff_community_name_AVONDALE                  0\n",
       "dropoff_community_name_BELMONT CRAGIN            0\n",
       "dropoff_community_name_BEVERLY                   0\n",
       "dropoff_community_name_BRIDGEPORT                0\n",
       "dropoff_community_name_BRIGHTON PARK             0\n",
       "dropoff_community_name_BURNSIDE                  0\n",
       "dropoff_community_name_CALUMET HEIGHTS           0\n",
       "dropoff_community_name_CHATHAM                   0\n",
       "dropoff_community_name_CHICAGO LAWN              0\n",
       "dropoff_community_name_CLEARING                  0\n",
       "dropoff_community_name_DOUGLAS                   0\n",
       "dropoff_community_name_DUNNING                   0\n",
       "dropoff_community_name_EAST GARFIELD PARK        0\n",
       "dropoff_community_name_EAST SIDE                 0\n",
       "dropoff_community_name_EDGEWATER                 0\n",
       "dropoff_community_name_EDISON PARK               0\n",
       "dropoff_community_name_ENGLEWOOD                 0\n",
       "dropoff_community_name_FOREST GLEN               0\n",
       "dropoff_community_name_FULLER PARK               0\n",
       "dropoff_community_name_GAGE PARK                 0\n",
       "dropoff_community_name_GARFIELD RIDGE            0\n",
       "dropoff_community_name_GRAND BOULEVARD           0\n",
       "dropoff_community_name_GREATER GRAND CROSSING    0\n",
       "dropoff_community_name_HEGEWISCH                 0\n",
       "dropoff_community_name_HERMOSA                   0\n",
       "dropoff_community_name_HUMBOLDT PARK             0\n",
       "dropoff_community_name_HYDE PARK                 0\n",
       "dropoff_community_name_IRVING PARK               0\n",
       "dropoff_community_name_JEFFERSON PARK            0\n",
       "dropoff_community_name_KENWOOD                   0\n",
       "dropoff_community_name_LAKE VIEW                 0\n",
       "dropoff_community_name_LINCOLN PARK              0\n",
       "dropoff_community_name_LINCOLN SQUARE            0\n",
       "dropoff_community_name_LOGAN SQUARE              0\n",
       "dropoff_community_name_LOOP                      0\n",
       "dropoff_community_name_LOWER WEST SIDE           0\n",
       "dropoff_community_name_MCKINLEY PARK             0\n",
       "dropoff_community_name_MONTCLARE                 0\n",
       "dropoff_community_name_MORGAN PARK               0\n",
       "dropoff_community_name_MOUNT GREENWOOD           0\n",
       "dropoff_community_name_NEAR NORTH SIDE           0\n",
       "dropoff_community_name_NEAR SOUTH SIDE           0\n",
       "dropoff_community_name_NEAR WEST SIDE            0\n",
       "dropoff_community_name_NEW CITY                  0\n",
       "dropoff_community_name_NORTH CENTER              0\n",
       "dropoff_community_name_NORTH LAWNDALE            0\n",
       "dropoff_community_name_NORTH PARK                0\n",
       "dropoff_community_name_NORWOOD PARK              0\n",
       "dropoff_community_name_OAKLAND                   0\n",
       "dropoff_community_name_OHARE                     0\n",
       "dropoff_community_name_PORTAGE PARK              0\n",
       "dropoff_community_name_PULLMAN                   0\n",
       "dropoff_community_name_ROGERS PARK               0\n",
       "dropoff_community_name_ROSELAND                  0\n",
       "dropoff_community_name_SOUTH CHICAGO             0\n",
       "dropoff_community_name_SOUTH DEERING             0\n",
       "dropoff_community_name_SOUTH LAWNDALE            0\n",
       "dropoff_community_name_SOUTH SHORE               0\n",
       "dropoff_community_name_UPTOWN                    0\n",
       "dropoff_community_name_WASHINGTON HEIGHTS        0\n",
       "dropoff_community_name_WASHINGTON PARK           0\n",
       "dropoff_community_name_WEST ELSDON               0\n",
       "dropoff_community_name_WEST ENGLEWOOD            0\n",
       "dropoff_community_name_WEST GARFIELD PARK        0\n",
       "dropoff_community_name_WEST LAWN                 0\n",
       "dropoff_community_name_WEST PULLMAN              0\n",
       "dropoff_community_name_WEST RIDGE                0\n",
       "dropoff_community_name_WEST TOWN                 0\n",
       "dropoff_community_name_WOODLAWN                  0\n",
       "pickup_community_name_ALBANY PARK                0\n",
       "pickup_community_name_ARCHER HEIGHTS             0\n",
       "pickup_community_name_ARMOUR SQUARE              0\n",
       "pickup_community_name_ASHBURN                    0\n",
       "pickup_community_name_AUBURN GRESHAM             0\n",
       "pickup_community_name_AUSTIN                     0\n",
       "pickup_community_name_AVALON PARK                0\n",
       "pickup_community_name_AVONDALE                   0\n",
       "pickup_community_name_BELMONT CRAGIN             0\n",
       "pickup_community_name_BEVERLY                    0\n",
       "pickup_community_name_BRIDGEPORT                 0\n",
       "pickup_community_name_BRIGHTON PARK              0\n",
       "pickup_community_name_BURNSIDE                   0\n",
       "pickup_community_name_CALUMET HEIGHTS            0\n",
       "pickup_community_name_CHATHAM                    0\n",
       "pickup_community_name_CHICAGO LAWN               0\n",
       "pickup_community_name_CLEARING                   0\n",
       "pickup_community_name_DOUGLAS                    0\n",
       "pickup_community_name_DUNNING                    0\n",
       "pickup_community_name_EAST GARFIELD PARK         0\n",
       "pickup_community_name_EAST SIDE                  0\n",
       "pickup_community_name_EDGEWATER                  0\n",
       "pickup_community_name_EDISON PARK                0\n",
       "pickup_community_name_ENGLEWOOD                  0\n",
       "pickup_community_name_FOREST GLEN                0\n",
       "pickup_community_name_FULLER PARK                0\n",
       "pickup_community_name_GAGE PARK                  0\n",
       "pickup_community_name_GARFIELD RIDGE             0\n",
       "pickup_community_name_GRAND BOULEVARD            0\n",
       "pickup_community_name_GREATER GRAND CROSSING     0\n",
       "pickup_community_name_HEGEWISCH                  0\n",
       "pickup_community_name_HERMOSA                    0\n",
       "pickup_community_name_HUMBOLDT PARK              0\n",
       "pickup_community_name_HYDE PARK                  0\n",
       "pickup_community_name_IRVING PARK                0\n",
       "pickup_community_name_JEFFERSON PARK             0\n",
       "pickup_community_name_KENWOOD                    0\n",
       "pickup_community_name_LAKE VIEW                  0\n",
       "pickup_community_name_LINCOLN PARK               0\n",
       "pickup_community_name_LINCOLN SQUARE             0\n",
       "pickup_community_name_LOGAN SQUARE               0\n",
       "pickup_community_name_LOOP                       0\n",
       "pickup_community_name_LOWER WEST SIDE            0\n",
       "pickup_community_name_MCKINLEY PARK              0\n",
       "pickup_community_name_MONTCLARE                  0\n",
       "pickup_community_name_MORGAN PARK                0\n",
       "pickup_community_name_MOUNT GREENWOOD            0\n",
       "pickup_community_name_NEAR NORTH SIDE            0\n",
       "pickup_community_name_NEAR SOUTH SIDE            0\n",
       "pickup_community_name_NEAR WEST SIDE             0\n",
       "pickup_community_name_NEW CITY                   0\n",
       "pickup_community_name_NORTH CENTER               0\n",
       "pickup_community_name_NORTH LAWNDALE             0\n",
       "pickup_community_name_NORTH PARK                 0\n",
       "pickup_community_name_NORWOOD PARK               0\n",
       "pickup_community_name_OAKLAND                    0\n",
       "pickup_community_name_OHARE                      0\n",
       "pickup_community_name_PORTAGE PARK               0\n",
       "pickup_community_name_PULLMAN                    0\n",
       "pickup_community_name_RIVERDALE                  0\n",
       "pickup_community_name_ROGERS PARK                0\n",
       "pickup_community_name_ROSELAND                   0\n",
       "pickup_community_name_SOUTH CHICAGO              0\n",
       "pickup_community_name_SOUTH DEERING              0\n",
       "pickup_community_name_SOUTH LAWNDALE             0\n",
       "pickup_community_name_SOUTH SHORE                0\n",
       "pickup_community_name_UPTOWN                     0\n",
       "pickup_community_name_WASHINGTON HEIGHTS         0\n",
       "pickup_community_name_WASHINGTON PARK            0\n",
       "pickup_community_name_WEST ELSDON                0\n",
       "pickup_community_name_WEST ENGLEWOOD             0\n",
       "pickup_community_name_WEST GARFIELD PARK         0\n",
       "pickup_community_name_WEST LAWN                  0\n",
       "pickup_community_name_WEST PULLMAN               0\n",
       "pickup_community_name_WEST RIDGE                 0\n",
       "pickup_community_name_WEST TOWN                  0\n",
       "pickup_community_name_WOODLAWN                   0\n",
       "time_of_day_aft rush hour                        0\n",
       "time_of_day_afternoon                            0\n",
       "time_of_day_early morning                        0\n",
       "time_of_day_evening                              0\n",
       "time_of_day_late night                           0\n",
       "time_of_day_midday                               0\n",
       "time_of_day_morning rush hour                    0\n",
       "season_autumn                                    0\n",
       "season_spring                                    0\n",
       "season_summer                                    0\n",
       "season_winter                                    0\n",
       "dtype: int64"
      ]
     },
     "execution_count": 223,
     "metadata": {},
     "output_type": "execute_result"
    }
   ],
   "source": [
    "val_X.isnull().sum()"
   ]
  },
  {
   "cell_type": "code",
   "execution_count": 224,
   "metadata": {},
   "outputs": [],
   "source": [
    "# X.drop(['dropoff_community_name_RIVERDALE'], axis = 1, inplace=True)"
   ]
  },
  {
   "cell_type": "code",
   "execution_count": 225,
   "metadata": {},
   "outputs": [
    {
     "data": {
      "text/plain": [
       "Index(['trip_start_timestamp', 'trip_end_timestamp', 'trip_seconds',\n",
       "       'trip_miles', 'fare', 'tip', 'additional_charges',\n",
       "       'shared_trip_authorized', 'trips_pooled', 'date', 'max_temp',\n",
       "       'min_temp', 'precip', 'snow', 'snow_depth', 'wind_speed',\n",
       "       'pickup_community_name', 'dropoff_community_name', 'year', 'month',\n",
       "       'day', 'day_of_week', 'hour', 'weekend', 'nonzero_tip'],\n",
       "      dtype='object')"
      ]
     },
     "execution_count": 225,
     "metadata": {},
     "output_type": "execute_result"
    }
   ],
   "source": [
    "test = pd.read_csv('./15_modified_data/test_data.csv')\n",
    "test.head()\n",
    "test.columns"
   ]
  },
  {
   "cell_type": "code",
   "execution_count": 226,
   "metadata": {},
   "outputs": [],
   "source": [
    "# test = test[test['trip_miles'] != 0]"
   ]
  },
  {
   "cell_type": "code",
   "execution_count": 227,
   "metadata": {},
   "outputs": [
    {
     "data": {
      "text/plain": [
       "23916"
      ]
     },
     "execution_count": 227,
     "metadata": {},
     "output_type": "execute_result"
    }
   ],
   "source": [
    "test_y = test['nonzero_tip']\n",
    "len(test_y)\n"
   ]
  },
  {
   "cell_type": "code",
   "execution_count": 228,
   "metadata": {},
   "outputs": [],
   "source": [
    "month_map = {'January': 1, 'February': 2, 'March': 3, 'April': 4, 'May': 5, 'June': 6, 'July': 7, 'August': 8, 'September': 9, 'October': 10, 'November': 11, 'December': 12}\n",
    "test['month_int'] = test['month'].map(month_map)\n",
    "day_map = {'Monday': 1, 'Tuesday': 2, 'Wednesday': 3, 'Thursday': 4, 'Friday': 5, 'Saturday': 6, 'Sunday': 7}\n",
    "test['day_ofweek_int'] = test['day_of_week'].map(day_map)\n",
    "# test['day_ofweek_int'].value_counts()\n",
    "test.drop(['day_of_week', 'month' ], axis=1, inplace=True)"
   ]
  },
  {
   "cell_type": "code",
   "execution_count": 229,
   "metadata": {},
   "outputs": [
    {
     "data": {
      "text/plain": [
       "23909"
      ]
     },
     "execution_count": 229,
     "metadata": {},
     "output_type": "execute_result"
    }
   ],
   "source": [
    "len(test[test['trip_miles'] != 0])"
   ]
  },
  {
   "cell_type": "code",
   "execution_count": 230,
   "metadata": {},
   "outputs": [],
   "source": [
    "test['amount_per_miles'] = test['fare'] / test['trip_miles']\n",
    "test['amount_per_miles'].isnull().sum()\n",
    "test['amount_per_miles']  = round(test['amount_per_miles'], 2)\n",
    "test.loc[(test['trip_miles'] == 0), 'amount_per_miles'] = 0\n",
    "\n"
   ]
  },
  {
   "cell_type": "code",
   "execution_count": 231,
   "metadata": {},
   "outputs": [],
   "source": [
    "test['time_of_day'] = 's'\n",
    "test.loc[(test['hour'] >= 4) & (test['hour'] < 7), 'time_of_day'] = 'early morning'\n",
    "test.loc[(test['hour'] >= 7) & (test['hour'] < 11), 'time_of_day'] = 'morning rush hour'\n",
    "test.loc[(test['hour'] >= 11) & (test['hour'] < 14), 'time_of_day'] = 'midday'\n",
    "test.loc[(test['hour'] >= 14) & (test['hour'] < 16), 'time_of_day'] = 'afternoon'\n",
    "test.loc[(test['hour'] >= 16) & (test['hour'] < 19), 'time_of_day'] = 'aft rush hour'\n",
    "test.loc[(test['hour'] >= 19) & (test['hour'] < 23), 'time_of_day'] = 'evening'\n",
    "test.loc[(test['hour'] >= 23) | (test['hour'] < 4), 'time_of_day'] = 'late night'\n",
    "\n"
   ]
  },
  {
   "cell_type": "code",
   "execution_count": 232,
   "metadata": {},
   "outputs": [],
   "source": [
    "test['season'] = 's'\n",
    "test.loc[(test['month_int'] >= 3) & (test['month_int'] <= 5), 'season'] = 'spring'\n",
    "test.loc[(test['month_int'] >= 6) & (test['month_int'] <= 8), 'season'] = 'summer'\n",
    "test.loc[(test['month_int'] >= 9) & (test['month_int'] <= 11), 'season'] = 'autumn'\n",
    "test.loc[(test['month_int'] >= 12) | (test['month_int'] <= 2), 'season'] = 'winter'"
   ]
  },
  {
   "cell_type": "code",
   "execution_count": 233,
   "metadata": {},
   "outputs": [],
   "source": [
    "test['public_hol'] = 0\n",
    "\n",
    "test.loc[(test['month_int'] == 1) & (test['day'] == 1), 'public_hol'] = 1\n",
    "test.loc[(test['month_int'] == 6) & (test['day'] == 19), 'public_hol'] = 1\n",
    "test.loc[(test['month_int'] == 7) & (test['day'] == 4), 'public_hol'] = 1\n",
    "test.loc[(test['month_int'] == 11) & (test['day'] == 11), 'public_hol'] = 1\n",
    "test.loc[(test['month_int'] == 12) & (test['day'] == 25), 'public_hol'] = 1\n",
    "\n",
    "# MLK\n",
    "test.loc[(test['month_int'] == 1) & (test['day'] == 15) & (test['year'] == 2018), 'public_hol'] = 1\n",
    "test.loc[(test['month_int'] == 1) & (test['day'] == 21) & (test['year'] == 2019), 'public_hol'] = 1\n",
    "test.loc[(test['month_int'] == 1) & (test['day'] == 20) & (test['year'] == 2020), 'public_hol'] = 1\n",
    "\n",
    "# presidents day\n",
    "test.loc[(test['month_int'] == 2) & (test['day'] == 19) & (test['year'] == 2018), 'public_hol'] = 1\n",
    "test.loc[(test['month_int'] == 2) & (test['day'] == 18) & (test['year'] == 2019), 'public_hol'] = 1\n",
    "test.loc[(test['month_int'] == 2) & (test['day'] == 17) & (test['year'] == 2020), 'public_hol'] = 1\n",
    "\n",
    "# memorial\n",
    "test.loc[(test['month_int'] == 5) & (test['day'] == 28) & (test['year'] == 2018), 'public_hol'] = 1\n",
    "test.loc[(test['month_int'] == 5) & (test['day'] == 27) & (test['year'] == 2019), 'public_hol'] = 1\n",
    "test.loc[(test['month_int'] == 5) & (test['day'] == 25) & (test['year'] == 2020), 'public_hol'] = 1\n",
    "\n",
    "# labour day\n",
    "test.loc[(test['month_int'] == 9) & (test['day'] == 3) & (test['year'] == 2018), 'public_hol'] = 1\n",
    "test.loc[(test['month_int'] == 9) & (test['day'] == 2) & (test['year'] == 2019), 'public_hol'] = 1\n",
    "test.loc[(test['month_int'] == 9) & (test['day'] == 7) & (test['year'] == 2020), 'public_hol'] = 1\n",
    "\n",
    "\n",
    "# columbus day\n",
    "test.loc[(test['month_int'] == 10) & (test['day'] == 8) & (test['year'] == 2018), 'public_hol'] = 1\n",
    "test.loc[(test['month_int'] == 10) & (test['day'] == 14) & (test['year'] == 2019), 'public_hol'] = 1\n",
    "test.loc[(test['month_int'] == 10) & (test['day'] == 12) & (test['year'] == 2020), 'public_hol'] = 1\n",
    "\n",
    "\n",
    "# thanksgiving\n",
    "test.loc[(test['month_int'] == 11) & (test['day'] == 22) & (test['year'] == 2018), 'public_hol'] = 1\n",
    "test.loc[(test['month_int'] == 11) & (test['day'] == 28) & (test['year'] == 2019), 'public_hol'] = 1\n",
    "test.loc[(test['month_int'] == 11) & (test['day'] == 26) & (test['year'] == 2020), 'public_hol'] = 1\n"
   ]
  },
  {
   "cell_type": "code",
   "execution_count": 234,
   "metadata": {},
   "outputs": [],
   "source": [
    "test_X = pd.get_dummies(test, columns = ['dropoff_community_name', 'pickup_community_name', 'time_of_day', 'season'])\n",
    "test_X.drop(['nonzero_tip', 'tip', 'trip_start_timestamp', 'trip_end_timestamp', 'date' ], axis=1, inplace=True)"
   ]
  },
  {
   "cell_type": "code",
   "execution_count": 235,
   "metadata": {},
   "outputs": [],
   "source": [
    "scaler = MinMaxScaler()"
   ]
  },
  {
   "cell_type": "code",
   "execution_count": 236,
   "metadata": {},
   "outputs": [
    {
     "data": {
      "text/plain": [
       "MinMaxScaler()"
      ]
     },
     "execution_count": 236,
     "metadata": {},
     "output_type": "execute_result"
    }
   ],
   "source": [
    "scaler.fit(test_X)"
   ]
  },
  {
   "cell_type": "code",
   "execution_count": 237,
   "metadata": {},
   "outputs": [
    {
     "data": {
      "text/html": [
       "<div>\n",
       "<style scoped>\n",
       "    .dataframe tbody tr th:only-of-type {\n",
       "        vertical-align: middle;\n",
       "    }\n",
       "\n",
       "    .dataframe tbody tr th {\n",
       "        vertical-align: top;\n",
       "    }\n",
       "\n",
       "    .dataframe thead th {\n",
       "        text-align: right;\n",
       "    }\n",
       "</style>\n",
       "<table border=\"1\" class=\"dataframe\">\n",
       "  <thead>\n",
       "    <tr style=\"text-align: right;\">\n",
       "      <th></th>\n",
       "      <th>trip_seconds</th>\n",
       "      <th>trip_miles</th>\n",
       "      <th>fare</th>\n",
       "      <th>additional_charges</th>\n",
       "      <th>shared_trip_authorized</th>\n",
       "      <th>trips_pooled</th>\n",
       "      <th>max_temp</th>\n",
       "      <th>min_temp</th>\n",
       "      <th>precip</th>\n",
       "      <th>snow</th>\n",
       "      <th>...</th>\n",
       "      <th>time_of_day_afternoon</th>\n",
       "      <th>time_of_day_early morning</th>\n",
       "      <th>time_of_day_evening</th>\n",
       "      <th>time_of_day_late night</th>\n",
       "      <th>time_of_day_midday</th>\n",
       "      <th>time_of_day_morning rush hour</th>\n",
       "      <th>season_autumn</th>\n",
       "      <th>season_spring</th>\n",
       "      <th>season_summer</th>\n",
       "      <th>season_winter</th>\n",
       "    </tr>\n",
       "  </thead>\n",
       "  <tbody>\n",
       "    <tr>\n",
       "      <th>0</th>\n",
       "      <td>802.0</td>\n",
       "      <td>6.183132</td>\n",
       "      <td>10.0</td>\n",
       "      <td>2.55</td>\n",
       "      <td>False</td>\n",
       "      <td>1</td>\n",
       "      <td>80.06</td>\n",
       "      <td>80.06</td>\n",
       "      <td>0.000000</td>\n",
       "      <td>0.0</td>\n",
       "      <td>...</td>\n",
       "      <td>0</td>\n",
       "      <td>1</td>\n",
       "      <td>0</td>\n",
       "      <td>0</td>\n",
       "      <td>0</td>\n",
       "      <td>0</td>\n",
       "      <td>1</td>\n",
       "      <td>0</td>\n",
       "      <td>0</td>\n",
       "      <td>0</td>\n",
       "    </tr>\n",
       "    <tr>\n",
       "      <th>1</th>\n",
       "      <td>2349.0</td>\n",
       "      <td>18.248731</td>\n",
       "      <td>35.0</td>\n",
       "      <td>8.11</td>\n",
       "      <td>False</td>\n",
       "      <td>1</td>\n",
       "      <td>78.98</td>\n",
       "      <td>78.98</td>\n",
       "      <td>0.000000</td>\n",
       "      <td>0.0</td>\n",
       "      <td>...</td>\n",
       "      <td>0</td>\n",
       "      <td>0</td>\n",
       "      <td>0</td>\n",
       "      <td>0</td>\n",
       "      <td>1</td>\n",
       "      <td>0</td>\n",
       "      <td>0</td>\n",
       "      <td>0</td>\n",
       "      <td>1</td>\n",
       "      <td>0</td>\n",
       "    </tr>\n",
       "    <tr>\n",
       "      <th>2</th>\n",
       "      <td>684.0</td>\n",
       "      <td>5.277118</td>\n",
       "      <td>10.0</td>\n",
       "      <td>2.50</td>\n",
       "      <td>False</td>\n",
       "      <td>1</td>\n",
       "      <td>37.04</td>\n",
       "      <td>37.04</td>\n",
       "      <td>1.181102</td>\n",
       "      <td>0.0</td>\n",
       "      <td>...</td>\n",
       "      <td>0</td>\n",
       "      <td>0</td>\n",
       "      <td>0</td>\n",
       "      <td>1</td>\n",
       "      <td>0</td>\n",
       "      <td>0</td>\n",
       "      <td>1</td>\n",
       "      <td>0</td>\n",
       "      <td>0</td>\n",
       "      <td>0</td>\n",
       "    </tr>\n",
       "    <tr>\n",
       "      <th>3</th>\n",
       "      <td>698.0</td>\n",
       "      <td>3.079843</td>\n",
       "      <td>7.5</td>\n",
       "      <td>2.55</td>\n",
       "      <td>False</td>\n",
       "      <td>1</td>\n",
       "      <td>48.92</td>\n",
       "      <td>48.92</td>\n",
       "      <td>0.196850</td>\n",
       "      <td>0.0</td>\n",
       "      <td>...</td>\n",
       "      <td>0</td>\n",
       "      <td>0</td>\n",
       "      <td>0</td>\n",
       "      <td>0</td>\n",
       "      <td>1</td>\n",
       "      <td>0</td>\n",
       "      <td>0</td>\n",
       "      <td>0</td>\n",
       "      <td>0</td>\n",
       "      <td>1</td>\n",
       "    </tr>\n",
       "    <tr>\n",
       "      <th>4</th>\n",
       "      <td>812.0</td>\n",
       "      <td>2.996371</td>\n",
       "      <td>7.5</td>\n",
       "      <td>2.50</td>\n",
       "      <td>False</td>\n",
       "      <td>1</td>\n",
       "      <td>60.08</td>\n",
       "      <td>60.08</td>\n",
       "      <td>0.000000</td>\n",
       "      <td>0.0</td>\n",
       "      <td>...</td>\n",
       "      <td>1</td>\n",
       "      <td>0</td>\n",
       "      <td>0</td>\n",
       "      <td>0</td>\n",
       "      <td>0</td>\n",
       "      <td>0</td>\n",
       "      <td>0</td>\n",
       "      <td>0</td>\n",
       "      <td>0</td>\n",
       "      <td>1</td>\n",
       "    </tr>\n",
       "  </tbody>\n",
       "</table>\n",
       "<p>5 rows × 185 columns</p>\n",
       "</div>"
      ],
      "text/plain": [
       "   trip_seconds  trip_miles  fare  additional_charges  shared_trip_authorized  \\\n",
       "0         802.0    6.183132  10.0                2.55                   False   \n",
       "1        2349.0   18.248731  35.0                8.11                   False   \n",
       "2         684.0    5.277118  10.0                2.50                   False   \n",
       "3         698.0    3.079843   7.5                2.55                   False   \n",
       "4         812.0    2.996371   7.5                2.50                   False   \n",
       "\n",
       "   trips_pooled  max_temp  min_temp    precip  snow  ...  \\\n",
       "0             1     80.06     80.06  0.000000   0.0  ...   \n",
       "1             1     78.98     78.98  0.000000   0.0  ...   \n",
       "2             1     37.04     37.04  1.181102   0.0  ...   \n",
       "3             1     48.92     48.92  0.196850   0.0  ...   \n",
       "4             1     60.08     60.08  0.000000   0.0  ...   \n",
       "\n",
       "   time_of_day_afternoon  time_of_day_early morning  time_of_day_evening  \\\n",
       "0                      0                          1                    0   \n",
       "1                      0                          0                    0   \n",
       "2                      0                          0                    0   \n",
       "3                      0                          0                    0   \n",
       "4                      1                          0                    0   \n",
       "\n",
       "   time_of_day_late night  time_of_day_midday  time_of_day_morning rush hour  \\\n",
       "0                       0                   0                              0   \n",
       "1                       0                   1                              0   \n",
       "2                       1                   0                              0   \n",
       "3                       0                   1                              0   \n",
       "4                       0                   0                              0   \n",
       "\n",
       "   season_autumn  season_spring  season_summer  season_winter  \n",
       "0              1              0              0              0  \n",
       "1              0              0              1              0  \n",
       "2              1              0              0              0  \n",
       "3              0              0              0              1  \n",
       "4              0              0              0              1  \n",
       "\n",
       "[5 rows x 185 columns]"
      ]
     },
     "execution_count": 237,
     "metadata": {},
     "output_type": "execute_result"
    }
   ],
   "source": [
    "combine_X = pd.concat([X, val_X], axis=0).reset_index(drop=True)\n",
    "combine_X.head()"
   ]
  },
  {
   "cell_type": "code",
   "execution_count": 238,
   "metadata": {},
   "outputs": [
    {
     "data": {
      "text/html": [
       "<div>\n",
       "<style scoped>\n",
       "    .dataframe tbody tr th:only-of-type {\n",
       "        vertical-align: middle;\n",
       "    }\n",
       "\n",
       "    .dataframe tbody tr th {\n",
       "        vertical-align: top;\n",
       "    }\n",
       "\n",
       "    .dataframe thead th {\n",
       "        text-align: right;\n",
       "    }\n",
       "</style>\n",
       "<table border=\"1\" class=\"dataframe\">\n",
       "  <thead>\n",
       "    <tr style=\"text-align: right;\">\n",
       "      <th></th>\n",
       "      <th>trip_seconds</th>\n",
       "      <th>trip_miles</th>\n",
       "      <th>fare</th>\n",
       "      <th>additional_charges</th>\n",
       "      <th>shared_trip_authorized</th>\n",
       "      <th>trips_pooled</th>\n",
       "      <th>max_temp</th>\n",
       "      <th>min_temp</th>\n",
       "      <th>precip</th>\n",
       "      <th>snow</th>\n",
       "      <th>...</th>\n",
       "      <th>time_of_day_afternoon</th>\n",
       "      <th>time_of_day_early morning</th>\n",
       "      <th>time_of_day_evening</th>\n",
       "      <th>time_of_day_late night</th>\n",
       "      <th>time_of_day_midday</th>\n",
       "      <th>time_of_day_morning rush hour</th>\n",
       "      <th>season_autumn</th>\n",
       "      <th>season_spring</th>\n",
       "      <th>season_summer</th>\n",
       "      <th>season_winter</th>\n",
       "    </tr>\n",
       "  </thead>\n",
       "  <tbody>\n",
       "    <tr>\n",
       "      <th>95655</th>\n",
       "      <td>1776.0</td>\n",
       "      <td>8.548112</td>\n",
       "      <td>17.5</td>\n",
       "      <td>2.55</td>\n",
       "      <td>False</td>\n",
       "      <td>1</td>\n",
       "      <td>39.02</td>\n",
       "      <td>39.02</td>\n",
       "      <td>0.000000</td>\n",
       "      <td>0.0</td>\n",
       "      <td>...</td>\n",
       "      <td>0</td>\n",
       "      <td>0</td>\n",
       "      <td>0</td>\n",
       "      <td>0</td>\n",
       "      <td>0</td>\n",
       "      <td>1</td>\n",
       "      <td>0</td>\n",
       "      <td>1</td>\n",
       "      <td>0</td>\n",
       "      <td>0</td>\n",
       "    </tr>\n",
       "    <tr>\n",
       "      <th>95656</th>\n",
       "      <td>1643.0</td>\n",
       "      <td>5.490325</td>\n",
       "      <td>15.0</td>\n",
       "      <td>2.55</td>\n",
       "      <td>False</td>\n",
       "      <td>1</td>\n",
       "      <td>53.96</td>\n",
       "      <td>53.96</td>\n",
       "      <td>1.299213</td>\n",
       "      <td>0.0</td>\n",
       "      <td>...</td>\n",
       "      <td>1</td>\n",
       "      <td>0</td>\n",
       "      <td>0</td>\n",
       "      <td>0</td>\n",
       "      <td>0</td>\n",
       "      <td>0</td>\n",
       "      <td>0</td>\n",
       "      <td>1</td>\n",
       "      <td>0</td>\n",
       "      <td>0</td>\n",
       "    </tr>\n",
       "    <tr>\n",
       "      <th>95657</th>\n",
       "      <td>1074.0</td>\n",
       "      <td>4.497281</td>\n",
       "      <td>7.5</td>\n",
       "      <td>0.00</td>\n",
       "      <td>True</td>\n",
       "      <td>2</td>\n",
       "      <td>50.00</td>\n",
       "      <td>50.00</td>\n",
       "      <td>0.000000</td>\n",
       "      <td>0.0</td>\n",
       "      <td>...</td>\n",
       "      <td>0</td>\n",
       "      <td>0</td>\n",
       "      <td>0</td>\n",
       "      <td>0</td>\n",
       "      <td>0</td>\n",
       "      <td>0</td>\n",
       "      <td>0</td>\n",
       "      <td>0</td>\n",
       "      <td>0</td>\n",
       "      <td>1</td>\n",
       "    </tr>\n",
       "    <tr>\n",
       "      <th>95658</th>\n",
       "      <td>306.0</td>\n",
       "      <td>1.153994</td>\n",
       "      <td>5.0</td>\n",
       "      <td>0.00</td>\n",
       "      <td>True</td>\n",
       "      <td>1</td>\n",
       "      <td>78.98</td>\n",
       "      <td>78.98</td>\n",
       "      <td>0.000000</td>\n",
       "      <td>0.0</td>\n",
       "      <td>...</td>\n",
       "      <td>0</td>\n",
       "      <td>0</td>\n",
       "      <td>0</td>\n",
       "      <td>1</td>\n",
       "      <td>0</td>\n",
       "      <td>0</td>\n",
       "      <td>1</td>\n",
       "      <td>0</td>\n",
       "      <td>0</td>\n",
       "      <td>0</td>\n",
       "    </tr>\n",
       "    <tr>\n",
       "      <th>95659</th>\n",
       "      <td>1251.0</td>\n",
       "      <td>3.480594</td>\n",
       "      <td>10.0</td>\n",
       "      <td>2.55</td>\n",
       "      <td>False</td>\n",
       "      <td>1</td>\n",
       "      <td>64.94</td>\n",
       "      <td>64.94</td>\n",
       "      <td>2.795276</td>\n",
       "      <td>0.0</td>\n",
       "      <td>...</td>\n",
       "      <td>1</td>\n",
       "      <td>0</td>\n",
       "      <td>0</td>\n",
       "      <td>0</td>\n",
       "      <td>0</td>\n",
       "      <td>0</td>\n",
       "      <td>1</td>\n",
       "      <td>0</td>\n",
       "      <td>0</td>\n",
       "      <td>0</td>\n",
       "    </tr>\n",
       "  </tbody>\n",
       "</table>\n",
       "<p>5 rows × 185 columns</p>\n",
       "</div>"
      ],
      "text/plain": [
       "       trip_seconds  trip_miles  fare  additional_charges  \\\n",
       "95655        1776.0    8.548112  17.5                2.55   \n",
       "95656        1643.0    5.490325  15.0                2.55   \n",
       "95657        1074.0    4.497281   7.5                0.00   \n",
       "95658         306.0    1.153994   5.0                0.00   \n",
       "95659        1251.0    3.480594  10.0                2.55   \n",
       "\n",
       "       shared_trip_authorized  trips_pooled  max_temp  min_temp    precip  \\\n",
       "95655                   False             1     39.02     39.02  0.000000   \n",
       "95656                   False             1     53.96     53.96  1.299213   \n",
       "95657                    True             2     50.00     50.00  0.000000   \n",
       "95658                    True             1     78.98     78.98  0.000000   \n",
       "95659                   False             1     64.94     64.94  2.795276   \n",
       "\n",
       "       snow  ...  time_of_day_afternoon  time_of_day_early morning  \\\n",
       "95655   0.0  ...                      0                          0   \n",
       "95656   0.0  ...                      1                          0   \n",
       "95657   0.0  ...                      0                          0   \n",
       "95658   0.0  ...                      0                          0   \n",
       "95659   0.0  ...                      1                          0   \n",
       "\n",
       "       time_of_day_evening  time_of_day_late night  time_of_day_midday  \\\n",
       "95655                    0                       0                   0   \n",
       "95656                    0                       0                   0   \n",
       "95657                    0                       0                   0   \n",
       "95658                    0                       1                   0   \n",
       "95659                    0                       0                   0   \n",
       "\n",
       "       time_of_day_morning rush hour  season_autumn  season_spring  \\\n",
       "95655                              1              0              1   \n",
       "95656                              0              0              1   \n",
       "95657                              0              0              0   \n",
       "95658                              0              1              0   \n",
       "95659                              0              1              0   \n",
       "\n",
       "       season_summer  season_winter  \n",
       "95655              0              0  \n",
       "95656              0              0  \n",
       "95657              0              1  \n",
       "95658              0              0  \n",
       "95659              0              0  \n",
       "\n",
       "[5 rows x 185 columns]"
      ]
     },
     "execution_count": 238,
     "metadata": {},
     "output_type": "execute_result"
    }
   ],
   "source": [
    "combine_X.tail()"
   ]
  },
  {
   "cell_type": "code",
   "execution_count": 239,
   "metadata": {},
   "outputs": [],
   "source": [
    "# test_X.drop(['dropoff_community_name_RIVERDALE'], axis = 1, inplace=True)"
   ]
  },
  {
   "cell_type": "code",
   "execution_count": 240,
   "metadata": {},
   "outputs": [],
   "source": [
    "# len(combine)\n",
    "# # len(X)\n",
    "# # len(val_X)"
   ]
  },
  {
   "cell_type": "code",
   "execution_count": 241,
   "metadata": {},
   "outputs": [
    {
     "data": {
      "text/plain": [
       "0    1\n",
       "1    0\n",
       "2    0\n",
       "3    1\n",
       "4    0\n",
       "Name: nonzero_tip, dtype: int64"
      ]
     },
     "execution_count": 241,
     "metadata": {},
     "output_type": "execute_result"
    }
   ],
   "source": [
    "combine_y = pd.concat([y, val_y], axis=0).reset_index(drop=True)\n",
    "combine_y.head()"
   ]
  },
  {
   "cell_type": "code",
   "execution_count": 242,
   "metadata": {},
   "outputs": [
    {
     "data": {
      "text/plain": [
       "Index(['trip_start_timestamp', 'trip_end_timestamp', 'trip_seconds',\n",
       "       'trip_miles', 'fare', 'tip', 'additional_charges',\n",
       "       'shared_trip_authorized', 'trips_pooled', 'date', 'max_temp',\n",
       "       'min_temp', 'precip', 'snow', 'snow_depth', 'wind_speed',\n",
       "       'pickup_community_name', 'dropoff_community_name', 'year', 'month',\n",
       "       'day', 'day_of_week', 'hour', 'weekend', 'nonzero_tip'],\n",
       "      dtype='object')"
      ]
     },
     "execution_count": 242,
     "metadata": {},
     "output_type": "execute_result"
    }
   ],
   "source": [
    "covid = pd.read_csv('./15_modified_data/val_post_covid.csv')\n",
    "covid.head()\n",
    "covid.columns"
   ]
  },
  {
   "cell_type": "code",
   "execution_count": 243,
   "metadata": {},
   "outputs": [
    {
     "data": {
      "text/plain": [
       "2020    117453\n",
       "2021     14186\n",
       "Name: year, dtype: int64"
      ]
     },
     "execution_count": 243,
     "metadata": {},
     "output_type": "execute_result"
    }
   ],
   "source": [
    "covid.year.value_counts()"
   ]
  },
  {
   "cell_type": "code",
   "execution_count": 244,
   "metadata": {},
   "outputs": [],
   "source": [
    "covid = covid[covid['year'] == 2020].copy()"
   ]
  },
  {
   "cell_type": "code",
   "execution_count": 245,
   "metadata": {},
   "outputs": [
    {
     "data": {
      "text/plain": [
       "117453"
      ]
     },
     "execution_count": 245,
     "metadata": {},
     "output_type": "execute_result"
    }
   ],
   "source": [
    "cov_y = covid['nonzero_tip']\n",
    "len(cov_y)\n"
   ]
  },
  {
   "cell_type": "code",
   "execution_count": 246,
   "metadata": {},
   "outputs": [],
   "source": [
    "month_map = {'January': 1, 'February': 2, 'March': 3, 'April': 4, 'May': 5, 'June': 6, 'July': 7, 'August': 8, 'September': 9, 'October': 10, 'November': 11, 'December': 12}\n",
    "covid['month_int'] = covid['month'].map(month_map)\n",
    "day_map = {'Monday': 1, 'Tuesday': 2, 'Wednesday': 3, 'Thursday': 4, 'Friday': 5, 'Saturday': 6, 'Sunday': 7}\n",
    "covid['day_ofweek_int'] = covid['day_of_week'].map(day_map)\n",
    "# covid['day_ofweek_int'].value_counts()\n",
    "covid.drop(['day_of_week', 'month' ], axis=1, inplace=True)"
   ]
  },
  {
   "cell_type": "code",
   "execution_count": 247,
   "metadata": {},
   "outputs": [],
   "source": [
    "covid['amount_per_miles'] = covid['fare'] / covid['trip_miles']\n",
    "covid['amount_per_miles'].isnull().sum()\n",
    "covid['amount_per_miles']  = round(covid['amount_per_miles'], 2)\n",
    "covid.loc[(covid['trip_miles'] == 0), 'amount_per_miles'] = 0\n"
   ]
  },
  {
   "cell_type": "code",
   "execution_count": 248,
   "metadata": {},
   "outputs": [],
   "source": [
    "covid['time_of_day'] = 's'\n",
    "covid.loc[(covid['hour'] >= 4) & (covid['hour'] < 7), 'time_of_day'] = 'early morning'\n",
    "covid.loc[(covid['hour'] >= 7) & (covid['hour'] < 11), 'time_of_day'] = 'morning rush hour'\n",
    "covid.loc[(covid['hour'] >= 11) & (covid['hour'] < 14), 'time_of_day'] = 'midday'\n",
    "covid.loc[(covid['hour'] >= 14) & (covid['hour'] < 16), 'time_of_day'] = 'afternoon'\n",
    "covid.loc[(covid['hour'] >= 16) & (covid['hour'] < 19), 'time_of_day'] = 'aft rush hour'\n",
    "covid.loc[(covid['hour'] >= 19) & (covid['hour'] < 23), 'time_of_day'] = 'evening'\n",
    "covid.loc[(covid['hour'] >= 23) | (covid['hour'] < 4), 'time_of_day'] = 'late night'\n",
    "\n"
   ]
  },
  {
   "cell_type": "code",
   "execution_count": 249,
   "metadata": {},
   "outputs": [],
   "source": [
    "covid['season'] = 's'\n",
    "covid.loc[(covid['month_int'] >= 3) & (covid['month_int'] <= 5), 'season'] = 'spring'\n",
    "covid.loc[(covid['month_int'] >= 6) & (covid['month_int'] <= 8), 'season'] = 'summer'\n",
    "covid.loc[(covid['month_int'] >= 9) & (covid['month_int'] <= 11), 'season'] = 'autumn'\n",
    "covid.loc[(covid['month_int'] >= 12) | (covid['month_int'] <= 2), 'season'] = 'winter'"
   ]
  },
  {
   "cell_type": "code",
   "execution_count": 250,
   "metadata": {},
   "outputs": [],
   "source": [
    "covid['public_hol'] = 0\n",
    "covid.loc[(covid['month_int'] == 1) & (covid['day'] == 1), 'public_hol'] = 1\n",
    "covid.loc[(covid['month_int'] == 6) & (covid['day'] == 19), 'public_hol'] = 1\n",
    "covid.loc[(covid['month_int'] == 7) & (covid['day'] == 4), 'public_hol'] = 1\n",
    "covid.loc[(covid['month_int'] == 11) & (covid['day'] == 11), 'public_hol'] = 1\n",
    "covid.loc[(covid['month_int'] == 12) & (covid['day'] == 25), 'public_hol'] = 1\n",
    "\n",
    "# MLK\n",
    "covid.loc[(covid['month_int'] == 1) & (covid['day'] == 15) & (covid['year'] == 2018), 'public_hol'] = 1\n",
    "covid.loc[(covid['month_int'] == 1) & (covid['day'] == 21) & (covid['year'] == 2019), 'public_hol'] = 1\n",
    "covid.loc[(covid['month_int'] == 1) & (covid['day'] == 20) & (covid['year'] == 2020), 'public_hol'] = 1\n",
    "\n",
    "# presidents day\n",
    "covid.loc[(covid['month_int'] == 2) & (covid['day'] == 19) & (covid['year'] == 2018), 'public_hol'] = 1\n",
    "covid.loc[(covid['month_int'] == 2) & (covid['day'] == 18) & (covid['year'] == 2019), 'public_hol'] = 1\n",
    "covid.loc[(covid['month_int'] == 2) & (covid['day'] == 17) & (covid['year'] == 2020), 'public_hol'] = 1\n",
    "\n",
    "# memorial\n",
    "covid.loc[(covid['month_int'] == 5) & (covid['day'] == 28) & (covid['year'] == 2018), 'public_hol'] = 1\n",
    "covid.loc[(covid['month_int'] == 5) & (covid['day'] == 27) & (covid['year'] == 2019), 'public_hol'] = 1\n",
    "covid.loc[(covid['month_int'] == 5) & (covid['day'] == 25) & (covid['year'] == 2020), 'public_hol'] = 1\n",
    "\n",
    "# labour day\n",
    "covid.loc[(covid['month_int'] == 9) & (covid['day'] == 3) & (covid['year'] == 2018), 'public_hol'] = 1\n",
    "covid.loc[(covid['month_int'] == 9) & (covid['day'] == 2) & (covid['year'] == 2019), 'public_hol'] = 1\n",
    "covid.loc[(covid['month_int'] == 9) & (covid['day'] == 7) & (covid['year'] == 2020), 'public_hol'] = 1\n",
    "\n",
    "\n",
    "# columbus day\n",
    "covid.loc[(covid['month_int'] == 10) & (covid['day'] == 8) & (covid['year'] == 2018), 'public_hol'] = 1\n",
    "covid.loc[(covid['month_int'] == 10) & (covid['day'] == 14) & (covid['year'] == 2019), 'public_hol'] = 1\n",
    "covid.loc[(covid['month_int'] == 10) & (covid['day'] == 12) & (covid['year'] == 2020), 'public_hol'] = 1\n",
    "\n",
    "\n",
    "# thanksgiving\n",
    "covid.loc[(covid['month_int'] == 11) & (covid['day'] == 22) & (covid['year'] == 2018), 'public_hol'] = 1\n",
    "covid.loc[(covid['month_int'] == 11) & (covid['day'] == 28) & (covid['year'] == 2019), 'public_hol'] = 1\n",
    "covid.loc[(covid['month_int'] == 11) & (covid['day'] == 26) & (covid['year'] == 2020), 'public_hol'] = 1\n"
   ]
  },
  {
   "cell_type": "code",
   "execution_count": 251,
   "metadata": {},
   "outputs": [],
   "source": [
    "cov_X = pd.get_dummies(covid, columns = ['dropoff_community_name', 'pickup_community_name', 'time_of_day', 'season'])\n",
    "cov_X.drop(['nonzero_tip', 'tip', 'trip_start_timestamp', 'trip_end_timestamp', 'date' ], axis=1, inplace=True)"
   ]
  },
  {
   "cell_type": "code",
   "execution_count": 252,
   "metadata": {},
   "outputs": [],
   "source": [
    "scaler = MinMaxScaler()"
   ]
  },
  {
   "cell_type": "code",
   "execution_count": 253,
   "metadata": {},
   "outputs": [
    {
     "data": {
      "text/plain": [
       "MinMaxScaler()"
      ]
     },
     "execution_count": 253,
     "metadata": {},
     "output_type": "execute_result"
    }
   ],
   "source": [
    "scaler.fit(cov_X)"
   ]
  },
  {
   "cell_type": "code",
   "execution_count": 254,
   "metadata": {},
   "outputs": [],
   "source": [
    "cov_X.drop(['dropoff_community_name_RIVERDALE'], axis = 1, inplace=True)"
   ]
  },
  {
   "cell_type": "code",
   "execution_count": 255,
   "metadata": {},
   "outputs": [],
   "source": [
    "combine_X.drop(['dropoff_community_name_RIVERDALE'], axis = 1, inplace=True)"
   ]
  },
  {
   "cell_type": "code",
   "execution_count": 256,
   "metadata": {},
   "outputs": [],
   "source": [
    "test_X.drop(['dropoff_community_name_RIVERDALE'], axis = 1, inplace=True)"
   ]
  },
  {
   "cell_type": "code",
   "execution_count": 257,
   "metadata": {},
   "outputs": [
    {
     "name": "stderr",
     "output_type": "stream",
     "text": [
      "/Users/michellevan/opt/miniconda3/lib/python3.9/site-packages/sklearn/linear_model/_logistic.py:814: ConvergenceWarning: lbfgs failed to converge (status=1):\n",
      "STOP: TOTAL NO. of ITERATIONS REACHED LIMIT.\n",
      "\n",
      "Increase the number of iterations (max_iter) or scale the data as shown in:\n",
      "    https://scikit-learn.org/stable/modules/preprocessing.html\n",
      "Please also refer to the documentation for alternative solver options:\n",
      "    https://scikit-learn.org/stable/modules/linear_model.html#logistic-regression\n",
      "  n_iter_i = _check_optimize_result(\n"
     ]
    },
    {
     "data": {
      "text/plain": [
       "array([0, 0, 0, ..., 0, 0, 0])"
      ]
     },
     "execution_count": 257,
     "metadata": {},
     "output_type": "execute_result"
    }
   ],
   "source": [
    "log = LogisticRegression()\n",
    "log.fit(combine_X, combine_y)\n",
    "ypred = log.predict(test_X)\n",
    "ypred"
   ]
  },
  {
   "cell_type": "code",
   "execution_count": 258,
   "metadata": {},
   "outputs": [
    {
     "data": {
      "text/plain": [
       "Index(['trip_seconds', 'trip_miles', 'fare', 'additional_charges',\n",
       "       'shared_trip_authorized', 'trips_pooled', 'max_temp', 'min_temp',\n",
       "       'precip', 'snow',\n",
       "       ...\n",
       "       'time_of_day_afternoon', 'time_of_day_early morning',\n",
       "       'time_of_day_evening', 'time_of_day_late night', 'time_of_day_midday',\n",
       "       'time_of_day_morning rush hour', 'season_autumn', 'season_spring',\n",
       "       'season_summer', 'season_winter'],\n",
       "      dtype='object', length=184)"
      ]
     },
     "execution_count": 258,
     "metadata": {},
     "output_type": "execute_result"
    }
   ],
   "source": [
    "combine_X.columns"
   ]
  },
  {
   "cell_type": "code",
   "execution_count": 259,
   "metadata": {},
   "outputs": [
    {
     "data": {
      "text/plain": [
       "184"
      ]
     },
     "execution_count": 259,
     "metadata": {},
     "output_type": "execute_result"
    }
   ],
   "source": [
    "len(combine_X.columns)"
   ]
  },
  {
   "cell_type": "code",
   "execution_count": 260,
   "metadata": {},
   "outputs": [
    {
     "data": {
      "text/plain": [
       "182"
      ]
     },
     "execution_count": 260,
     "metadata": {},
     "output_type": "execute_result"
    }
   ],
   "source": [
    "len(cov_X.columns)"
   ]
  },
  {
   "cell_type": "code",
   "execution_count": 261,
   "metadata": {},
   "outputs": [
    {
     "data": {
      "text/plain": [
       "Index(['trip_seconds', 'trip_miles', 'fare', 'additional_charges',\n",
       "       'shared_trip_authorized', 'trips_pooled', 'max_temp', 'min_temp',\n",
       "       'precip', 'snow',\n",
       "       ...\n",
       "       'pickup_community_name_WOODLAWN', 'time_of_day_aft rush hour',\n",
       "       'time_of_day_afternoon', 'time_of_day_early morning',\n",
       "       'time_of_day_evening', 'time_of_day_late night', 'time_of_day_midday',\n",
       "       'time_of_day_morning rush hour', 'season_spring', 'season_summer'],\n",
       "      dtype='object', length=182)"
      ]
     },
     "execution_count": 261,
     "metadata": {},
     "output_type": "execute_result"
    }
   ],
   "source": [
    "cov_X.columns"
   ]
  },
  {
   "cell_type": "code",
   "execution_count": 262,
   "metadata": {},
   "outputs": [
    {
     "ename": "KeyError",
     "evalue": "\"['season_autumn'] not found in axis\"",
     "output_type": "error",
     "traceback": [
      "\u001b[0;31m---------------------------------------------------------------------------\u001b[0m",
      "\u001b[0;31mKeyError\u001b[0m                                  Traceback (most recent call last)",
      "Input \u001b[0;32mIn [262]\u001b[0m, in \u001b[0;36m<cell line: 1>\u001b[0;34m()\u001b[0m\n\u001b[0;32m----> 1\u001b[0m cov_X\u001b[39m.\u001b[39;49mdrop([\u001b[39m'\u001b[39;49m\u001b[39mseason_autumn\u001b[39;49m\u001b[39m'\u001b[39;49m], axis \u001b[39m=\u001b[39;49m \u001b[39m1\u001b[39;49m, inplace\u001b[39m=\u001b[39;49m\u001b[39mTrue\u001b[39;49;00m)\n",
      "File \u001b[0;32m~/opt/miniconda3/lib/python3.9/site-packages/pandas/util/_decorators.py:311\u001b[0m, in \u001b[0;36mdeprecate_nonkeyword_arguments.<locals>.decorate.<locals>.wrapper\u001b[0;34m(*args, **kwargs)\u001b[0m\n\u001b[1;32m    <a href='file:///Users/michellevan/opt/miniconda3/lib/python3.9/site-packages/pandas/util/_decorators.py?line=304'>305</a>\u001b[0m \u001b[39mif\u001b[39;00m \u001b[39mlen\u001b[39m(args) \u001b[39m>\u001b[39m num_allow_args:\n\u001b[1;32m    <a href='file:///Users/michellevan/opt/miniconda3/lib/python3.9/site-packages/pandas/util/_decorators.py?line=305'>306</a>\u001b[0m     warnings\u001b[39m.\u001b[39mwarn(\n\u001b[1;32m    <a href='file:///Users/michellevan/opt/miniconda3/lib/python3.9/site-packages/pandas/util/_decorators.py?line=306'>307</a>\u001b[0m         msg\u001b[39m.\u001b[39mformat(arguments\u001b[39m=\u001b[39marguments),\n\u001b[1;32m    <a href='file:///Users/michellevan/opt/miniconda3/lib/python3.9/site-packages/pandas/util/_decorators.py?line=307'>308</a>\u001b[0m         \u001b[39mFutureWarning\u001b[39;00m,\n\u001b[1;32m    <a href='file:///Users/michellevan/opt/miniconda3/lib/python3.9/site-packages/pandas/util/_decorators.py?line=308'>309</a>\u001b[0m         stacklevel\u001b[39m=\u001b[39mstacklevel,\n\u001b[1;32m    <a href='file:///Users/michellevan/opt/miniconda3/lib/python3.9/site-packages/pandas/util/_decorators.py?line=309'>310</a>\u001b[0m     )\n\u001b[0;32m--> <a href='file:///Users/michellevan/opt/miniconda3/lib/python3.9/site-packages/pandas/util/_decorators.py?line=310'>311</a>\u001b[0m \u001b[39mreturn\u001b[39;00m func(\u001b[39m*\u001b[39;49margs, \u001b[39m*\u001b[39;49m\u001b[39m*\u001b[39;49mkwargs)\n",
      "File \u001b[0;32m~/opt/miniconda3/lib/python3.9/site-packages/pandas/core/frame.py:4948\u001b[0m, in \u001b[0;36mDataFrame.drop\u001b[0;34m(self, labels, axis, index, columns, level, inplace, errors)\u001b[0m\n\u001b[1;32m   <a href='file:///Users/michellevan/opt/miniconda3/lib/python3.9/site-packages/pandas/core/frame.py?line=4799'>4800</a>\u001b[0m \u001b[39m@deprecate_nonkeyword_arguments\u001b[39m(version\u001b[39m=\u001b[39m\u001b[39mNone\u001b[39;00m, allowed_args\u001b[39m=\u001b[39m[\u001b[39m\"\u001b[39m\u001b[39mself\u001b[39m\u001b[39m\"\u001b[39m, \u001b[39m\"\u001b[39m\u001b[39mlabels\u001b[39m\u001b[39m\"\u001b[39m])\n\u001b[1;32m   <a href='file:///Users/michellevan/opt/miniconda3/lib/python3.9/site-packages/pandas/core/frame.py?line=4800'>4801</a>\u001b[0m \u001b[39mdef\u001b[39;00m \u001b[39mdrop\u001b[39m(\n\u001b[1;32m   <a href='file:///Users/michellevan/opt/miniconda3/lib/python3.9/site-packages/pandas/core/frame.py?line=4801'>4802</a>\u001b[0m     \u001b[39mself\u001b[39m,\n\u001b[0;32m   (...)\u001b[0m\n\u001b[1;32m   <a href='file:///Users/michellevan/opt/miniconda3/lib/python3.9/site-packages/pandas/core/frame.py?line=4808'>4809</a>\u001b[0m     errors: \u001b[39mstr\u001b[39m \u001b[39m=\u001b[39m \u001b[39m\"\u001b[39m\u001b[39mraise\u001b[39m\u001b[39m\"\u001b[39m,\n\u001b[1;32m   <a href='file:///Users/michellevan/opt/miniconda3/lib/python3.9/site-packages/pandas/core/frame.py?line=4809'>4810</a>\u001b[0m ):\n\u001b[1;32m   <a href='file:///Users/michellevan/opt/miniconda3/lib/python3.9/site-packages/pandas/core/frame.py?line=4810'>4811</a>\u001b[0m     \u001b[39m\"\"\"\u001b[39;00m\n\u001b[1;32m   <a href='file:///Users/michellevan/opt/miniconda3/lib/python3.9/site-packages/pandas/core/frame.py?line=4811'>4812</a>\u001b[0m \u001b[39m    Drop specified labels from rows or columns.\u001b[39;00m\n\u001b[1;32m   <a href='file:///Users/michellevan/opt/miniconda3/lib/python3.9/site-packages/pandas/core/frame.py?line=4812'>4813</a>\u001b[0m \n\u001b[0;32m   (...)\u001b[0m\n\u001b[1;32m   <a href='file:///Users/michellevan/opt/miniconda3/lib/python3.9/site-packages/pandas/core/frame.py?line=4945'>4946</a>\u001b[0m \u001b[39m            weight  1.0     0.8\u001b[39;00m\n\u001b[1;32m   <a href='file:///Users/michellevan/opt/miniconda3/lib/python3.9/site-packages/pandas/core/frame.py?line=4946'>4947</a>\u001b[0m \u001b[39m    \"\"\"\u001b[39;00m\n\u001b[0;32m-> <a href='file:///Users/michellevan/opt/miniconda3/lib/python3.9/site-packages/pandas/core/frame.py?line=4947'>4948</a>\u001b[0m     \u001b[39mreturn\u001b[39;00m \u001b[39msuper\u001b[39;49m()\u001b[39m.\u001b[39;49mdrop(\n\u001b[1;32m   <a href='file:///Users/michellevan/opt/miniconda3/lib/python3.9/site-packages/pandas/core/frame.py?line=4948'>4949</a>\u001b[0m         labels\u001b[39m=\u001b[39;49mlabels,\n\u001b[1;32m   <a href='file:///Users/michellevan/opt/miniconda3/lib/python3.9/site-packages/pandas/core/frame.py?line=4949'>4950</a>\u001b[0m         axis\u001b[39m=\u001b[39;49maxis,\n\u001b[1;32m   <a href='file:///Users/michellevan/opt/miniconda3/lib/python3.9/site-packages/pandas/core/frame.py?line=4950'>4951</a>\u001b[0m         index\u001b[39m=\u001b[39;49mindex,\n\u001b[1;32m   <a href='file:///Users/michellevan/opt/miniconda3/lib/python3.9/site-packages/pandas/core/frame.py?line=4951'>4952</a>\u001b[0m         columns\u001b[39m=\u001b[39;49mcolumns,\n\u001b[1;32m   <a href='file:///Users/michellevan/opt/miniconda3/lib/python3.9/site-packages/pandas/core/frame.py?line=4952'>4953</a>\u001b[0m         level\u001b[39m=\u001b[39;49mlevel,\n\u001b[1;32m   <a href='file:///Users/michellevan/opt/miniconda3/lib/python3.9/site-packages/pandas/core/frame.py?line=4953'>4954</a>\u001b[0m         inplace\u001b[39m=\u001b[39;49minplace,\n\u001b[1;32m   <a href='file:///Users/michellevan/opt/miniconda3/lib/python3.9/site-packages/pandas/core/frame.py?line=4954'>4955</a>\u001b[0m         errors\u001b[39m=\u001b[39;49merrors,\n\u001b[1;32m   <a href='file:///Users/michellevan/opt/miniconda3/lib/python3.9/site-packages/pandas/core/frame.py?line=4955'>4956</a>\u001b[0m     )\n",
      "File \u001b[0;32m~/opt/miniconda3/lib/python3.9/site-packages/pandas/core/generic.py:4279\u001b[0m, in \u001b[0;36mNDFrame.drop\u001b[0;34m(self, labels, axis, index, columns, level, inplace, errors)\u001b[0m\n\u001b[1;32m   <a href='file:///Users/michellevan/opt/miniconda3/lib/python3.9/site-packages/pandas/core/generic.py?line=4276'>4277</a>\u001b[0m \u001b[39mfor\u001b[39;00m axis, labels \u001b[39min\u001b[39;00m axes\u001b[39m.\u001b[39mitems():\n\u001b[1;32m   <a href='file:///Users/michellevan/opt/miniconda3/lib/python3.9/site-packages/pandas/core/generic.py?line=4277'>4278</a>\u001b[0m     \u001b[39mif\u001b[39;00m labels \u001b[39mis\u001b[39;00m \u001b[39mnot\u001b[39;00m \u001b[39mNone\u001b[39;00m:\n\u001b[0;32m-> <a href='file:///Users/michellevan/opt/miniconda3/lib/python3.9/site-packages/pandas/core/generic.py?line=4278'>4279</a>\u001b[0m         obj \u001b[39m=\u001b[39m obj\u001b[39m.\u001b[39;49m_drop_axis(labels, axis, level\u001b[39m=\u001b[39;49mlevel, errors\u001b[39m=\u001b[39;49merrors)\n\u001b[1;32m   <a href='file:///Users/michellevan/opt/miniconda3/lib/python3.9/site-packages/pandas/core/generic.py?line=4280'>4281</a>\u001b[0m \u001b[39mif\u001b[39;00m inplace:\n\u001b[1;32m   <a href='file:///Users/michellevan/opt/miniconda3/lib/python3.9/site-packages/pandas/core/generic.py?line=4281'>4282</a>\u001b[0m     \u001b[39mself\u001b[39m\u001b[39m.\u001b[39m_update_inplace(obj)\n",
      "File \u001b[0;32m~/opt/miniconda3/lib/python3.9/site-packages/pandas/core/generic.py:4323\u001b[0m, in \u001b[0;36mNDFrame._drop_axis\u001b[0;34m(self, labels, axis, level, errors, consolidate, only_slice)\u001b[0m\n\u001b[1;32m   <a href='file:///Users/michellevan/opt/miniconda3/lib/python3.9/site-packages/pandas/core/generic.py?line=4320'>4321</a>\u001b[0m         new_axis \u001b[39m=\u001b[39m axis\u001b[39m.\u001b[39mdrop(labels, level\u001b[39m=\u001b[39mlevel, errors\u001b[39m=\u001b[39merrors)\n\u001b[1;32m   <a href='file:///Users/michellevan/opt/miniconda3/lib/python3.9/site-packages/pandas/core/generic.py?line=4321'>4322</a>\u001b[0m     \u001b[39melse\u001b[39;00m:\n\u001b[0;32m-> <a href='file:///Users/michellevan/opt/miniconda3/lib/python3.9/site-packages/pandas/core/generic.py?line=4322'>4323</a>\u001b[0m         new_axis \u001b[39m=\u001b[39m axis\u001b[39m.\u001b[39;49mdrop(labels, errors\u001b[39m=\u001b[39;49merrors)\n\u001b[1;32m   <a href='file:///Users/michellevan/opt/miniconda3/lib/python3.9/site-packages/pandas/core/generic.py?line=4323'>4324</a>\u001b[0m     indexer \u001b[39m=\u001b[39m axis\u001b[39m.\u001b[39mget_indexer(new_axis)\n\u001b[1;32m   <a href='file:///Users/michellevan/opt/miniconda3/lib/python3.9/site-packages/pandas/core/generic.py?line=4325'>4326</a>\u001b[0m \u001b[39m# Case for non-unique axis\u001b[39;00m\n\u001b[1;32m   <a href='file:///Users/michellevan/opt/miniconda3/lib/python3.9/site-packages/pandas/core/generic.py?line=4326'>4327</a>\u001b[0m \u001b[39melse\u001b[39;00m:\n",
      "File \u001b[0;32m~/opt/miniconda3/lib/python3.9/site-packages/pandas/core/indexes/base.py:6644\u001b[0m, in \u001b[0;36mIndex.drop\u001b[0;34m(self, labels, errors)\u001b[0m\n\u001b[1;32m   <a href='file:///Users/michellevan/opt/miniconda3/lib/python3.9/site-packages/pandas/core/indexes/base.py?line=6641'>6642</a>\u001b[0m \u001b[39mif\u001b[39;00m mask\u001b[39m.\u001b[39many():\n\u001b[1;32m   <a href='file:///Users/michellevan/opt/miniconda3/lib/python3.9/site-packages/pandas/core/indexes/base.py?line=6642'>6643</a>\u001b[0m     \u001b[39mif\u001b[39;00m errors \u001b[39m!=\u001b[39m \u001b[39m\"\u001b[39m\u001b[39mignore\u001b[39m\u001b[39m\"\u001b[39m:\n\u001b[0;32m-> <a href='file:///Users/michellevan/opt/miniconda3/lib/python3.9/site-packages/pandas/core/indexes/base.py?line=6643'>6644</a>\u001b[0m         \u001b[39mraise\u001b[39;00m \u001b[39mKeyError\u001b[39;00m(\u001b[39mf\u001b[39m\u001b[39m\"\u001b[39m\u001b[39m{\u001b[39;00m\u001b[39mlist\u001b[39m(labels[mask])\u001b[39m}\u001b[39;00m\u001b[39m not found in axis\u001b[39m\u001b[39m\"\u001b[39m)\n\u001b[1;32m   <a href='file:///Users/michellevan/opt/miniconda3/lib/python3.9/site-packages/pandas/core/indexes/base.py?line=6644'>6645</a>\u001b[0m     indexer \u001b[39m=\u001b[39m indexer[\u001b[39m~\u001b[39mmask]\n\u001b[1;32m   <a href='file:///Users/michellevan/opt/miniconda3/lib/python3.9/site-packages/pandas/core/indexes/base.py?line=6645'>6646</a>\u001b[0m \u001b[39mreturn\u001b[39;00m \u001b[39mself\u001b[39m\u001b[39m.\u001b[39mdelete(indexer)\n",
      "\u001b[0;31mKeyError\u001b[0m: \"['season_autumn'] not found in axis\""
     ]
    }
   ],
   "source": [
    "cov_X.drop(['season_autumn'], axis = 1, inplace=True)"
   ]
  },
  {
   "cell_type": "code",
   "execution_count": null,
   "metadata": {},
   "outputs": [],
   "source": [
    "cov_X.insert(180, 'season_autumn', 0)"
   ]
  },
  {
   "cell_type": "code",
   "execution_count": null,
   "metadata": {},
   "outputs": [],
   "source": [
    "cov_X.insert(183, 'season_winter', 0)"
   ]
  },
  {
   "cell_type": "code",
   "execution_count": null,
   "metadata": {},
   "outputs": [],
   "source": [
    "cov_X['season_autumn'] = 0\n",
    "cov_X['season_winter'] = 0"
   ]
  },
  {
   "cell_type": "code",
   "execution_count": null,
   "metadata": {},
   "outputs": [],
   "source": [
    "ypred = log.predict(cov_X)\n"
   ]
  },
  {
   "cell_type": "code",
   "execution_count": null,
   "metadata": {},
   "outputs": [
    {
     "name": "stderr",
     "output_type": "stream",
     "text": [
      "/Users/michellevan/opt/miniconda3/lib/python3.9/site-packages/sklearn/linear_model/_logistic.py:814: ConvergenceWarning: lbfgs failed to converge (status=1):\n",
      "STOP: TOTAL NO. of ITERATIONS REACHED LIMIT.\n",
      "\n",
      "Increase the number of iterations (max_iter) or scale the data as shown in:\n",
      "    https://scikit-learn.org/stable/modules/preprocessing.html\n",
      "Please also refer to the documentation for alternative solver options:\n",
      "    https://scikit-learn.org/stable/modules/linear_model.html#logistic-regression\n",
      "  n_iter_i = _check_optimize_result(\n"
     ]
    },
    {
     "data": {
      "text/plain": [
       "array([0, 0, 0, ..., 0, 0, 0])"
      ]
     },
     "execution_count": 46,
     "metadata": {},
     "output_type": "execute_result"
    }
   ],
   "source": [
    "log = LogisticRegression()\n",
    "log.fit(combine_X, combine_y)\n",
    "ypred = log.predict(test_X)\n",
    "ypred"
   ]
  },
  {
   "cell_type": "code",
   "execution_count": null,
   "metadata": {},
   "outputs": [
    {
     "data": {
      "text/plain": [
       "0.8230373499519009"
      ]
     },
     "execution_count": 62,
     "metadata": {},
     "output_type": "execute_result"
    }
   ],
   "source": [
    "accuracy_score(ypred, test_y)"
   ]
  },
  {
   "cell_type": "code",
   "execution_count": null,
   "metadata": {},
   "outputs": [],
   "source": [
    "from sklearn import linear_model"
   ]
  },
  {
   "cell_type": "code",
   "execution_count": null,
   "metadata": {},
   "outputs": [
    {
     "data": {
      "text/plain": [
       "array([1, 1, 1, ..., 1, 1, 1])"
      ]
     },
     "execution_count": 45,
     "metadata": {},
     "output_type": "execute_result"
    }
   ],
   "source": [
    "# logl1 = LogisticRegression(penalty='l1', solver='liblinear')\n",
    "# logl1.fit(X, y)\n",
    "# ypred = logl1.predict(val_X)\n",
    "# ypred"
   ]
  },
  {
   "cell_type": "code",
   "execution_count": null,
   "metadata": {},
   "outputs": [
    {
     "data": {
      "text/plain": [
       "0.1765788373065663"
      ]
     },
     "execution_count": 46,
     "metadata": {},
     "output_type": "execute_result"
    }
   ],
   "source": [
    "# accuracy_score(ypred, val_y)"
   ]
  },
  {
   "cell_type": "code",
   "execution_count": null,
   "metadata": {},
   "outputs": [],
   "source": [
    "# import seaborn as sns\n",
    "# from sklearn.metrics import roc_auc_score"
   ]
  },
  {
   "cell_type": "code",
   "execution_count": null,
   "metadata": {},
   "outputs": [],
   "source": [
    "# sns.set(rc={\"figure.figsize\": (15, 10)})\n",
    "# penalties = np.linspace(-2, 6, 15)\n",
    "# l1_scores = []\n",
    "# l2_scores = []\n",
    "# e_scores = []\n",
    "# for penalty in penalties:\n",
    "#     log_model = LogisticRegression(\n",
    "#         max_iter=2000,\n",
    "#         solver=\"liblinear\",\n",
    "#         penalty=\"l1\",\n",
    "#         C=10 ** penalty,\n",
    "#         random_state=7452,\n",
    "#     ).fit(combine_X, combine_y)\n",
    "#     l1_scores.append(\n",
    "#         roc_auc_score(test_y, log_model.predict_proba(test_X)[:, 1])\n",
    "#     )\n",
    "#     log_model = LogisticRegression(\n",
    "#         max_iter=2000,\n",
    "#         solver=\"liblinear\",\n",
    "#         penalty=\"l2\",\n",
    "#         C=10 ** penalty,\n",
    "#         random_state=7452,\n",
    "#     ).fit(combine_X, combine_y)\n",
    "#     l2_scores.append(\n",
    "#         roc_auc_score(test_y, log_model.predict_proba(test_X)[:, 1])\n",
    "#     )"
   ]
  },
  {
   "cell_type": "code",
   "execution_count": null,
   "metadata": {},
   "outputs": [
    {
     "data": {
      "text/plain": [
       "array([0.12220232, 0.15533254, 0.10764172, ..., 0.20308408, 0.26430574,\n",
       "       0.10719903])"
      ]
     },
     "execution_count": 67,
     "metadata": {},
     "output_type": "execute_result"
    }
   ],
   "source": [
    "# proba = log_model.predict_proba(test_X)[:, 1]\n",
    "# proba"
   ]
  },
  {
   "cell_type": "code",
   "execution_count": null,
   "metadata": {},
   "outputs": [
    {
     "data": {
      "image/png": "[encoded data removed]",
      "text/plain": [
       "<Figure size 1080x720 with 1 Axes>"
      ]
     },
     "metadata": {},
     "output_type": "display_data"
    }
   ],
   "source": [
    "# sns.set(font_scale = 2)\n",
    "# plt.plot(10**penalties, l1_scores, label = \"L1\")\n",
    "# plt.plot(10**penalties, l2_scores, label = \"L2\")\n",
    "# plt.title(\"Logistic Regression Performance Varying Regularization Strength\")\n",
    "# plt.xlabel(\"Inverse Regularization Penalty\")\n",
    "# plt.ylabel(\"AUC\")\n",
    "# plt.legend()\n",
    "# plt.xscale(\"log\")\n",
    "# plt.show()"
   ]
  },
  {
   "cell_type": "code",
   "execution_count": null,
   "metadata": {},
   "outputs": [
    {
     "data": {
      "text/plain": [
       "[0.6283702241449312,\n",
       " 0.6457514737738024,\n",
       " 0.6509204840437524,\n",
       " 0.6523026644517215,\n",
       " 0.6525624184421713,\n",
       " 0.6525770101424989,\n",
       " 0.6525845775503613,\n",
       " 0.6526108281278741,\n",
       " 0.6527098923762529,\n",
       " 0.6527100130685635,\n",
       " 0.6527095423685528,\n",
       " 0.6527093613300872,\n",
       " 0.6527094096070113,\n",
       " 0.6527094216762424,\n",
       " 0.6527094096070114]"
      ]
     },
     "execution_count": 69,
     "metadata": {},
     "output_type": "execute_result"
    }
   ],
   "source": [
    "# l1_scores"
   ]
  },
  {
   "cell_type": "code",
   "execution_count": 281,
   "metadata": {},
   "outputs": [
    {
     "name": "stderr",
     "output_type": "stream",
     "text": [
      "/Users/michellevan/opt/miniconda3/lib/python3.9/site-packages/sklearn/linear_model/_logistic.py:814: ConvergenceWarning: lbfgs failed to converge (status=1):\n",
      "STOP: TOTAL NO. of ITERATIONS REACHED LIMIT.\n",
      "\n",
      "Increase the number of iterations (max_iter) or scale the data as shown in:\n",
      "    https://scikit-learn.org/stable/modules/preprocessing.html\n",
      "Please also refer to the documentation for alternative solver options:\n",
      "    https://scikit-learn.org/stable/modules/linear_model.html#logistic-regression\n",
      "  n_iter_i = _check_optimize_result(\n"
     ]
    },
    {
     "data": {
      "text/plain": [
       "LogisticRegression()"
      ]
     },
     "execution_count": 281,
     "metadata": {},
     "output_type": "execute_result"
    }
   ],
   "source": [
    "log = LogisticRegression()\n",
    "log.fit(combine_X, combine_y)\n",
    "# ypred = log.predict(test_X)\n",
    "# ypred"
   ]
  },
  {
   "cell_type": "code",
   "execution_count": null,
   "metadata": {},
   "outputs": [
    {
     "data": {
      "text/plain": [
       "array([0.14022066, 0.20759219, 0.14539251, ..., 0.16229462, 0.21081971,\n",
       "       0.15490716])"
      ]
     },
     "execution_count": 180,
     "metadata": {},
     "output_type": "execute_result"
    }
   ],
   "source": [
    "pred_prob1 = log.predict_proba(test_X)\n",
    "proba = pred_prob1[:,1]\n",
    "proba"
   ]
  },
  {
   "cell_type": "code",
   "execution_count": null,
   "metadata": {},
   "outputs": [
    {
     "data": {
      "text/plain": [
       "array([0.16319436, 0.18478256, 0.14703054, ..., 0.21147114, 0.16065904,\n",
       "       0.16178342])"
      ]
     },
     "execution_count": 174,
     "metadata": {},
     "output_type": "execute_result"
    }
   ],
   "source": [
    "pred_prob2 = log.predict_proba(cov_X)\n",
    "proba2 = pred_prob2[:,1]\n",
    "proba2"
   ]
  },
  {
   "cell_type": "code",
   "execution_count": null,
   "metadata": {},
   "outputs": [],
   "source": [
    "from sklearn import metrics\n"
   ]
  },
  {
   "cell_type": "code",
   "execution_count": null,
   "metadata": {},
   "outputs": [
    {
     "data": {
      "text/plain": [
       "0.5758555700831935"
      ]
     },
     "execution_count": 178,
     "metadata": {},
     "output_type": "execute_result"
    }
   ],
   "source": [
    "metrics.roc_auc_score(cov_y, proba2)\n"
   ]
  },
  {
   "cell_type": "code",
   "execution_count": null,
   "metadata": {},
   "outputs": [
    {
     "data": {
      "text/plain": [
       "0.6033325468460533"
      ]
     },
     "execution_count": 181,
     "metadata": {},
     "output_type": "execute_result"
    }
   ],
   "source": [
    "metrics.roc_auc_score(test_y, proba)\n"
   ]
  },
  {
   "cell_type": "markdown",
   "metadata": {},
   "source": []
  },
  {
   "cell_type": "code",
   "execution_count": null,
   "metadata": {},
   "outputs": [],
   "source": [
    "pd.DataFrame(proba).to_csv(\"log_probab.csv\", index=None)\n"
   ]
  },
  {
   "cell_type": "code",
   "execution_count": null,
   "metadata": {},
   "outputs": [],
   "source": [
    "pd.DataFrame(proba2).to_csv(\"logCOVID_probab2.csv\", index=None)\n"
   ]
  },
  {
   "cell_type": "code",
   "execution_count": null,
   "metadata": {},
   "outputs": [
    {
     "ename": "AttributeError",
     "evalue": "'numpy.ndarray' object has no attribute 'to_csv'",
     "output_type": "error",
     "traceback": [
      "\u001b[0;31m---------------------------------------------------------------------------\u001b[0m",
      "\u001b[0;31mAttributeError\u001b[0m                            Traceback (most recent call last)",
      "\u001b[1;32m/Users/michellevan/Documents/MIDS/Spring22/ML/final/705-FinalProject/snow.ipynb Cell 70'\u001b[0m in \u001b[0;36m<cell line: 1>\u001b[0;34m()\u001b[0m\n\u001b[0;32m----> <a href='vscode-notebook-cell:/Users/michellevan/Documents/MIDS/Spring22/ML/final/705-FinalProject/snow.ipynb#ch0000070?line=0'>1</a>\u001b[0m proba\u001b[39m.\u001b[39;49mto_csv(\u001b[39m'\u001b[39m\u001b[39m./log_proba.csv\u001b[39m\u001b[39m'\u001b[39m, index \u001b[39m=\u001b[39m \u001b[39mNone\u001b[39;00m)\n",
      "\u001b[0;31mAttributeError\u001b[0m: 'numpy.ndarray' object has no attribute 'to_csv'"
     ]
    }
   ],
   "source": [
    "# proba.to_csv('./log_proba.csv', index = None)"
   ]
  },
  {
   "cell_type": "code",
   "execution_count": 263,
   "metadata": {},
   "outputs": [],
   "source": [
    "from sklearn.neural_network import MLPClassifier\n",
    "classifier = MLPClassifier(hidden_layer_sizes=(150,100,50), max_iter=300,activation = 'relu',solver='adam',random_state=1)\n",
    "classifier.fit(combine_X, combine_y)\n",
    "y_pred = classifier.predict(val_X)\n"
   ]
  },
  {
   "cell_type": "code",
   "execution_count": 264,
   "metadata": {},
   "outputs": [],
   "source": [
    "from sklearn import metrics\n"
   ]
  },
  {
   "cell_type": "code",
   "execution_count": 266,
   "metadata": {},
   "outputs": [
    {
     "data": {
      "text/plain": [
       "array([0.16374891, 0.19372383, 0.17931913, ..., 0.12816217, 0.12003496,\n",
       "       0.20003558])"
      ]
     },
     "execution_count": 266,
     "metadata": {},
     "output_type": "execute_result"
    }
   ],
   "source": [
    "pred_prob2 = log.predict_proba(val_X)\n",
    "proba2 = pred_prob2[:,1]\n",
    "proba2"
   ]
  },
  {
   "cell_type": "code",
   "execution_count": 267,
   "metadata": {},
   "outputs": [
    {
     "data": {
      "text/plain": [
       "0.6036521227033085"
      ]
     },
     "execution_count": 267,
     "metadata": {},
     "output_type": "execute_result"
    }
   ],
   "source": [
    "metrics.roc_auc_score(val_y, proba2)\n"
   ]
  },
  {
   "cell_type": "code",
   "execution_count": 269,
   "metadata": {},
   "outputs": [
    {
     "data": {
      "text/plain": [
       "Index(['trip_seconds', 'trip_miles', 'fare', 'additional_charges',\n",
       "       'shared_trip_authorized', 'trips_pooled', 'max_temp', 'min_temp',\n",
       "       'precip', 'snow',\n",
       "       ...\n",
       "       'time_of_day_afternoon', 'time_of_day_early morning',\n",
       "       'time_of_day_evening', 'time_of_day_late night', 'time_of_day_midday',\n",
       "       'time_of_day_morning rush hour', 'season_autumn', 'season_spring',\n",
       "       'season_summer', 'season_winter'],\n",
       "      dtype='object', length=184)"
      ]
     },
     "execution_count": 269,
     "metadata": {},
     "output_type": "execute_result"
    }
   ],
   "source": [
    "combine_X.columns"
   ]
  },
  {
   "cell_type": "code",
   "execution_count": 283,
   "metadata": {},
   "outputs": [],
   "source": [
    "temp = pd.read_csv(\"15_modified_data/test_data.csv\")\n",
    "communities = list(temp[\"pickup_community_name\"].unique())\n",
    "aucs = []\n",
    "for i in communities:\n",
    "    community = f\"pickup_community_name_{i}\"\n",
    "    temp_X = test_X[test_X[community] == 1]\n",
    "    temp_y = test_y[test_X[community] == 1]\n",
    "    if len(temp_y.unique()) == 1:\n",
    "        aucs.append(np.nan)\n",
    "    else:\n",
    "        auc = metrics.roc_auc_score(temp_y, log.predict_proba(temp_X)[:,1])\n",
    "        aucs.append(auc)"
   ]
  },
  {
   "cell_type": "code",
   "execution_count": 284,
   "metadata": {},
   "outputs": [
    {
     "data": {
      "text/plain": [
       "[0.6827458256029685,\n",
       " 0.6036557435054871,\n",
       " 0.4968619246861925,\n",
       " 0.5716127645857956,\n",
       " 0.583330798864558,\n",
       " 0.5864140262447772,\n",
       " 0.5717021418221105,\n",
       " 0.5553797468354431,\n",
       " 0.5008130081300813,\n",
       " 0.5811178069242586,\n",
       " 0.5701869440675411,\n",
       " 0.49523809523809514,\n",
       " 0.5589623928824845,\n",
       " 0.7032967032967032,\n",
       " 0.5783844189016603,\n",
       " 0.6183206106870229,\n",
       " 0.6233116883116884,\n",
       " 0.6232473993668024,\n",
       " 0.8636363636363636,\n",
       " 0.7076023391812866,\n",
       " 0.5712328767123288,\n",
       " nan,\n",
       " 0.5126996262317363,\n",
       " 0.6038226097679129,\n",
       " 0.46560846560846564,\n",
       " 0.5518195413758724,\n",
       " 0.6034081632653061,\n",
       " 0.5875803489439854,\n",
       " 0.6924603174603174,\n",
       " 0.5224719101123596,\n",
       " 0.5722670579603815,\n",
       " 0.12352941176470589,\n",
       " 0.4811188811188811,\n",
       " 0.6039367181751287,\n",
       " 0.5980534105534105,\n",
       " 0.5761494252873564,\n",
       " 0.5142222222222222,\n",
       " 0.6373465809468147,\n",
       " 0.601010101010101,\n",
       " 0.7215544871794872,\n",
       " 0.455026455026455,\n",
       " 0.5919387075283145,\n",
       " 0.4455696202531646,\n",
       " 0.6120689655172413,\n",
       " 0.6446153846153846,\n",
       " 0.75,\n",
       " 0.537037037037037,\n",
       " 0.5354938271604939,\n",
       " 0.8518518518518519,\n",
       " 0.6560846560846562,\n",
       " 1.0,\n",
       " 0.8846153846153846,\n",
       " 0.6510416666666667,\n",
       " 0.5162002945508101,\n",
       " 0.6202185792349726,\n",
       " 0.5681818181818182,\n",
       " 0.6335934596804161,\n",
       " 0.7337733773377337,\n",
       " 0.5132013201320133,\n",
       " 0.6041666666666667,\n",
       " 0.48316498316498313,\n",
       " 0.33333333333333337,\n",
       " 0.5833333333333333,\n",
       " 0.14393939393939392,\n",
       " 0.5848484848484848,\n",
       " 0.6613756613756614,\n",
       " 0.27083333333333337,\n",
       " nan,\n",
       " 0.4210526315789474,\n",
       " 0.7272727272727273,\n",
       " 0.54375,\n",
       " 0.0,\n",
       " nan,\n",
       " 0.7794117647058822,\n",
       " 0.8235294117647058,\n",
       " nan,\n",
       " nan]"
      ]
     },
     "execution_count": 284,
     "metadata": {},
     "output_type": "execute_result"
    }
   ],
   "source": [
    "aucs"
   ]
  },
  {
   "cell_type": "code",
   "execution_count": 285,
   "metadata": {},
   "outputs": [],
   "source": [
    "data = {'pickup':communities,\n",
    "        'aucs':aucs}"
   ]
  },
  {
   "cell_type": "code",
   "execution_count": 286,
   "metadata": {},
   "outputs": [],
   "source": [
    "df = pd.DataFrame(data, columns = ['pickup_location', 'auc'])\n"
   ]
  },
  {
   "cell_type": "code",
   "execution_count": 287,
   "metadata": {},
   "outputs": [
    {
     "data": {
      "text/html": [
       "<div>\n",
       "<style scoped>\n",
       "    .dataframe tbody tr th:only-of-type {\n",
       "        vertical-align: middle;\n",
       "    }\n",
       "\n",
       "    .dataframe tbody tr th {\n",
       "        vertical-align: top;\n",
       "    }\n",
       "\n",
       "    .dataframe thead th {\n",
       "        text-align: right;\n",
       "    }\n",
       "</style>\n",
       "<table border=\"1\" class=\"dataframe\">\n",
       "  <thead>\n",
       "    <tr style=\"text-align: right;\">\n",
       "      <th></th>\n",
       "      <th>pickup_location</th>\n",
       "      <th>auc</th>\n",
       "    </tr>\n",
       "  </thead>\n",
       "  <tbody>\n",
       "  </tbody>\n",
       "</table>\n",
       "</div>"
      ],
      "text/plain": [
       "Empty DataFrame\n",
       "Columns: [pickup_location, auc]\n",
       "Index: []"
      ]
     },
     "execution_count": 287,
     "metadata": {},
     "output_type": "execute_result"
    }
   ],
   "source": [
    "df.head()"
   ]
  },
  {
   "cell_type": "code",
   "execution_count": 272,
   "metadata": {},
   "outputs": [
    {
     "data": {
      "text/plain": [
       "['trip_seconds',\n",
       " 'trip_miles',\n",
       " 'fare',\n",
       " 'additional_charges',\n",
       " 'shared_trip_authorized',\n",
       " 'trips_pooled',\n",
       " 'max_temp',\n",
       " 'min_temp',\n",
       " 'precip',\n",
       " 'snow',\n",
       " 'snow_depth',\n",
       " 'wind_speed',\n",
       " 'year',\n",
       " 'day',\n",
       " 'hour',\n",
       " 'weekend',\n",
       " 'month_int',\n",
       " 'day_ofweek_int',\n",
       " 'amount_per_miles',\n",
       " 'public_hol',\n",
       " 'dropoff_community_name_ALBANY PARK',\n",
       " 'dropoff_community_name_ARCHER HEIGHTS',\n",
       " 'dropoff_community_name_ARMOUR SQUARE',\n",
       " 'dropoff_community_name_ASHBURN',\n",
       " 'dropoff_community_name_AUBURN GRESHAM',\n",
       " 'dropoff_community_name_AUSTIN',\n",
       " 'dropoff_community_name_AVALON PARK',\n",
       " 'dropoff_community_name_AVONDALE',\n",
       " 'dropoff_community_name_BELMONT CRAGIN',\n",
       " 'dropoff_community_name_BEVERLY',\n",
       " 'dropoff_community_name_BRIDGEPORT',\n",
       " 'dropoff_community_name_BRIGHTON PARK',\n",
       " 'dropoff_community_name_BURNSIDE',\n",
       " 'dropoff_community_name_CALUMET HEIGHTS',\n",
       " 'dropoff_community_name_CHATHAM',\n",
       " 'dropoff_community_name_CHICAGO LAWN',\n",
       " 'dropoff_community_name_CLEARING',\n",
       " 'dropoff_community_name_DOUGLAS',\n",
       " 'dropoff_community_name_DUNNING',\n",
       " 'dropoff_community_name_EAST GARFIELD PARK',\n",
       " 'dropoff_community_name_EAST SIDE',\n",
       " 'dropoff_community_name_EDGEWATER',\n",
       " 'dropoff_community_name_EDISON PARK',\n",
       " 'dropoff_community_name_ENGLEWOOD',\n",
       " 'dropoff_community_name_FOREST GLEN',\n",
       " 'dropoff_community_name_FULLER PARK',\n",
       " 'dropoff_community_name_GAGE PARK',\n",
       " 'dropoff_community_name_GARFIELD RIDGE',\n",
       " 'dropoff_community_name_GRAND BOULEVARD',\n",
       " 'dropoff_community_name_GREATER GRAND CROSSING',\n",
       " 'dropoff_community_name_HEGEWISCH',\n",
       " 'dropoff_community_name_HERMOSA',\n",
       " 'dropoff_community_name_HUMBOLDT PARK',\n",
       " 'dropoff_community_name_HYDE PARK',\n",
       " 'dropoff_community_name_IRVING PARK',\n",
       " 'dropoff_community_name_JEFFERSON PARK',\n",
       " 'dropoff_community_name_KENWOOD',\n",
       " 'dropoff_community_name_LAKE VIEW',\n",
       " 'dropoff_community_name_LINCOLN PARK',\n",
       " 'dropoff_community_name_LINCOLN SQUARE',\n",
       " 'dropoff_community_name_LOGAN SQUARE',\n",
       " 'dropoff_community_name_LOOP',\n",
       " 'dropoff_community_name_LOWER WEST SIDE',\n",
       " 'dropoff_community_name_MCKINLEY PARK',\n",
       " 'dropoff_community_name_MONTCLARE',\n",
       " 'dropoff_community_name_MORGAN PARK',\n",
       " 'dropoff_community_name_MOUNT GREENWOOD',\n",
       " 'dropoff_community_name_NEAR NORTH SIDE',\n",
       " 'dropoff_community_name_NEAR SOUTH SIDE',\n",
       " 'dropoff_community_name_NEAR WEST SIDE',\n",
       " 'dropoff_community_name_NEW CITY',\n",
       " 'dropoff_community_name_NORTH CENTER',\n",
       " 'dropoff_community_name_NORTH LAWNDALE',\n",
       " 'dropoff_community_name_NORTH PARK',\n",
       " 'dropoff_community_name_NORWOOD PARK',\n",
       " 'dropoff_community_name_OAKLAND',\n",
       " 'dropoff_community_name_OHARE',\n",
       " 'dropoff_community_name_PORTAGE PARK',\n",
       " 'dropoff_community_name_PULLMAN',\n",
       " 'dropoff_community_name_ROGERS PARK',\n",
       " 'dropoff_community_name_ROSELAND',\n",
       " 'dropoff_community_name_SOUTH CHICAGO',\n",
       " 'dropoff_community_name_SOUTH DEERING',\n",
       " 'dropoff_community_name_SOUTH LAWNDALE',\n",
       " 'dropoff_community_name_SOUTH SHORE',\n",
       " 'dropoff_community_name_UPTOWN',\n",
       " 'dropoff_community_name_WASHINGTON HEIGHTS',\n",
       " 'dropoff_community_name_WASHINGTON PARK',\n",
       " 'dropoff_community_name_WEST ELSDON',\n",
       " 'dropoff_community_name_WEST ENGLEWOOD',\n",
       " 'dropoff_community_name_WEST GARFIELD PARK',\n",
       " 'dropoff_community_name_WEST LAWN',\n",
       " 'dropoff_community_name_WEST PULLMAN',\n",
       " 'dropoff_community_name_WEST RIDGE',\n",
       " 'dropoff_community_name_WEST TOWN',\n",
       " 'dropoff_community_name_WOODLAWN',\n",
       " 'pickup_community_name_ALBANY PARK',\n",
       " 'pickup_community_name_ARCHER HEIGHTS',\n",
       " 'pickup_community_name_ARMOUR SQUARE',\n",
       " 'pickup_community_name_ASHBURN',\n",
       " 'pickup_community_name_AUBURN GRESHAM',\n",
       " 'pickup_community_name_AUSTIN',\n",
       " 'pickup_community_name_AVALON PARK',\n",
       " 'pickup_community_name_AVONDALE',\n",
       " 'pickup_community_name_BELMONT CRAGIN',\n",
       " 'pickup_community_name_BEVERLY',\n",
       " 'pickup_community_name_BRIDGEPORT',\n",
       " 'pickup_community_name_BRIGHTON PARK',\n",
       " 'pickup_community_name_BURNSIDE',\n",
       " 'pickup_community_name_CALUMET HEIGHTS',\n",
       " 'pickup_community_name_CHATHAM',\n",
       " 'pickup_community_name_CHICAGO LAWN',\n",
       " 'pickup_community_name_CLEARING',\n",
       " 'pickup_community_name_DOUGLAS',\n",
       " 'pickup_community_name_DUNNING',\n",
       " 'pickup_community_name_EAST GARFIELD PARK',\n",
       " 'pickup_community_name_EAST SIDE',\n",
       " 'pickup_community_name_EDGEWATER',\n",
       " 'pickup_community_name_EDISON PARK',\n",
       " 'pickup_community_name_ENGLEWOOD',\n",
       " 'pickup_community_name_FOREST GLEN',\n",
       " 'pickup_community_name_FULLER PARK',\n",
       " 'pickup_community_name_GAGE PARK',\n",
       " 'pickup_community_name_GARFIELD RIDGE',\n",
       " 'pickup_community_name_GRAND BOULEVARD',\n",
       " 'pickup_community_name_GREATER GRAND CROSSING',\n",
       " 'pickup_community_name_HEGEWISCH',\n",
       " 'pickup_community_name_HERMOSA',\n",
       " 'pickup_community_name_HUMBOLDT PARK',\n",
       " 'pickup_community_name_HYDE PARK',\n",
       " 'pickup_community_name_IRVING PARK',\n",
       " 'pickup_community_name_JEFFERSON PARK',\n",
       " 'pickup_community_name_KENWOOD',\n",
       " 'pickup_community_name_LAKE VIEW',\n",
       " 'pickup_community_name_LINCOLN PARK',\n",
       " 'pickup_community_name_LINCOLN SQUARE',\n",
       " 'pickup_community_name_LOGAN SQUARE',\n",
       " 'pickup_community_name_LOOP',\n",
       " 'pickup_community_name_LOWER WEST SIDE',\n",
       " 'pickup_community_name_MCKINLEY PARK',\n",
       " 'pickup_community_name_MONTCLARE',\n",
       " 'pickup_community_name_MORGAN PARK',\n",
       " 'pickup_community_name_MOUNT GREENWOOD',\n",
       " 'pickup_community_name_NEAR NORTH SIDE',\n",
       " 'pickup_community_name_NEAR SOUTH SIDE',\n",
       " 'pickup_community_name_NEAR WEST SIDE',\n",
       " 'pickup_community_name_NEW CITY',\n",
       " 'pickup_community_name_NORTH CENTER',\n",
       " 'pickup_community_name_NORTH LAWNDALE',\n",
       " 'pickup_community_name_NORTH PARK',\n",
       " 'pickup_community_name_NORWOOD PARK',\n",
       " 'pickup_community_name_OAKLAND',\n",
       " 'pickup_community_name_OHARE',\n",
       " 'pickup_community_name_PORTAGE PARK',\n",
       " 'pickup_community_name_PULLMAN',\n",
       " 'pickup_community_name_RIVERDALE',\n",
       " 'pickup_community_name_ROGERS PARK',\n",
       " 'pickup_community_name_ROSELAND',\n",
       " 'pickup_community_name_SOUTH CHICAGO',\n",
       " 'pickup_community_name_SOUTH DEERING',\n",
       " 'pickup_community_name_SOUTH LAWNDALE',\n",
       " 'pickup_community_name_SOUTH SHORE',\n",
       " 'pickup_community_name_UPTOWN',\n",
       " 'pickup_community_name_WASHINGTON HEIGHTS',\n",
       " 'pickup_community_name_WASHINGTON PARK',\n",
       " 'pickup_community_name_WEST ELSDON',\n",
       " 'pickup_community_name_WEST ENGLEWOOD',\n",
       " 'pickup_community_name_WEST GARFIELD PARK',\n",
       " 'pickup_community_name_WEST LAWN',\n",
       " 'pickup_community_name_WEST PULLMAN',\n",
       " 'pickup_community_name_WEST RIDGE',\n",
       " 'pickup_community_name_WEST TOWN',\n",
       " 'pickup_community_name_WOODLAWN',\n",
       " 'time_of_day_aft rush hour',\n",
       " 'time_of_day_afternoon',\n",
       " 'time_of_day_early morning',\n",
       " 'time_of_day_evening',\n",
       " 'time_of_day_late night',\n",
       " 'time_of_day_midday',\n",
       " 'time_of_day_morning rush hour',\n",
       " 'season_autumn',\n",
       " 'season_spring',\n",
       " 'season_summer',\n",
       " 'season_winter']"
      ]
     },
     "execution_count": 272,
     "metadata": {},
     "output_type": "execute_result"
    }
   ],
   "source": [
    "list(combine_X.columns)"
   ]
  }
 ],
 "metadata": {
  "interpreter": {
   "hash": "fe385157dd90d57d1276b373bd7680b10aa9203f0e4769d6babe52a703e29947"
  },
  "kernelspec": {
   "display_name": "Python 3.9.7 ('base')",
   "language": "python",
   "name": "python3"
  },
  "language_info": {
   "codemirror_mode": {
    "name": "ipython",
    "version": 3
   },
   "file_extension": ".py",
   "mimetype": "text/x-python",
   "name": "python",
   "nbconvert_exporter": "python",
   "pygments_lexer": "ipython3",
   "version": "3.9.7"
  },
  "orig_nbformat": 4
 },
 "nbformat": 4,
 "nbformat_minor": 2
}
